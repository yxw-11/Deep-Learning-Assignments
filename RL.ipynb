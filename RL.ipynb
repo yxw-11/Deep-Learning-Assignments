{
  "nbformat": 4,
  "nbformat_minor": 0,
  "metadata": {
    "colab": {
      "name": "RL.ipynb",
      "provenance": [],
      "collapsed_sections": [],
      "toc_visible": true
    },
    "kernelspec": {
      "display_name": "Python 3",
      "name": "python3"
    }
  },
  "cells": [
    {
      "cell_type": "markdown",
      "metadata": {
        "id": "VKtaeUY3URPU"
      },
      "source": [
        "\n",
        "# Reinforcement Learning\n",
        "RL involves an agent exploring an environment consisting of states and gathering information about its environment as it makes actions.\n",
        "In this assignment, we make simplifying assumptions that with every action, the agent transits to a new state. We also make Markov assumptions about the transition function, moving to a new state at the next time step depends only on the current state, action pair. \n",
        "\n",
        "## Q Learning\n",
        "Q-Learning is a Reinforcement Learning algorithm, which aims to learn an optimal policy that maximises the total reward.\n",
        "In this homework, we build up Q-Learning with a simple environment for you.\n",
        "\n",
        "You can find a lot of info online on Q-Learning. [Here's](https://leonardoaraujosantos.gitbooks.io/artificial-inteligence/content/deep_q_learning.html) an example of a pretty good resource. The key is implementing the iterative update equations that maintain our Q function."
      ]
    },
    {
      "cell_type": "markdown",
      "metadata": {
        "id": "kD1SvQB7VHAj"
      },
      "source": [
        "## Environment\n",
        "We implemented a very simple environment based on one from OpenAI Gym for you.\n",
        "In this game, we start at the square marked H for home, and our goal is to get to the square marked G.\n",
        "Along the way, we have pits P that cause us to immediately lose,\n",
        "slippery squares marked S that can send us in a random direction,\n",
        "and dry squares marked D we can walk on normally."
      ]
    },
    {
      "cell_type": "code",
      "metadata": {
        "id": "Sdq0qFEKSyu4"
      },
      "source": [
        "import numpy as np\n",
        "import random\n",
        "import matplotlib.pyplot as plt"
      ],
      "execution_count": 11,
      "outputs": []
    },
    {
      "cell_type": "code",
      "metadata": {
        "id": "bCiYdHlHS_qy"
      },
      "source": [
        "H = 0 # Home: starting point\n",
        "S = 1 # Slippery\n",
        "D = 2 # Dry\n",
        "P = 3 # Pit: doom\n",
        "G = 4 # Goal\n",
        "\n",
        "maze_small = np.array(\n",
        "        [\n",
        "          [H, D, D, S],\n",
        "          [S, P, D, P],\n",
        "          [D, S, S, D],\n",
        "          [P, D, S, G],\n",
        "        ],\n",
        "        dtype=np.float32)\n",
        "maze_big = np.array(\n",
        "        [\n",
        "            [H, D, S, S, P, S, D, S],\n",
        "            [P, D, S, S, D, P, S, P],\n",
        "            [S, S, S, S, P, D, S, S],\n",
        "            [S, D, P, S, D, S, S, P],\n",
        "            [D, S, P, S, D, S, D, S],\n",
        "            [S, S, S, P, S, P, P, D],\n",
        "            [S, P, S, P, D, S, S, S],\n",
        "            [S, D, S, S, D, P, G, S],\n",
        "        ],\n",
        "        dtype=np.float32)"
      ],
      "execution_count": 3,
      "outputs": []
    },
    {
      "cell_type": "markdown",
      "metadata": {
        "id": "nT49C8HDZKC9"
      },
      "source": [
        "We'll start with a small maze, but feel free to try switching to the large maze when you get a good handle of the problem. The current location of our agent will be stored in a 2 dimensional ndarray.\n",
        "We use numbers for movements so our agent can send a movement direction to the environment."
      ]
    },
    {
      "cell_type": "code",
      "metadata": {
        "id": "nDiaheTHTIpq"
      },
      "source": [
        "maze = maze_small\n",
        "loc = np.array([0, 0]) # y, x\n",
        "\n",
        "UP = 0\n",
        "DOWN = 1\n",
        "RIGHT = 2\n",
        "LEFT = 3\n",
        "SLIP_PERCENT = 0.4 # Slipping from S"
      ],
      "execution_count": 3,
      "outputs": []
    },
    {
      "cell_type": "markdown",
      "metadata": {
        "id": "RUZVInyCZbjZ"
      },
      "source": [
        "Resetting the environment will mean locating the home square and setting loc to its location."
      ]
    },
    {
      "cell_type": "code",
      "metadata": {
        "id": "4N6VwwwVTQEo"
      },
      "source": [
        "def env_reset():\n",
        "    global loc\n",
        "    # Find location of start\n",
        "    loc = np.dstack(np.nonzero(maze == H)).squeeze()\n",
        "    return (0, 0., {'maze':np.copy(maze), 'loc':np.copy(loc)})"
      ],
      "execution_count": 4,
      "outputs": []
    },
    {
      "cell_type": "code",
      "metadata": {
        "colab": {
          "base_uri": "https://localhost:8080/"
        },
        "id": "vm9r0l2iZnuw",
        "outputId": "50eff1b6-426f-4f0b-b946-8bcd1025cae5"
      },
      "source": [
        "env_reset()"
      ],
      "execution_count": null,
      "outputs": [
        {
          "output_type": "execute_result",
          "data": {
            "text/plain": [
              "(0, 0.0, {'loc': array([0, 0]), 'maze': array([[0., 2., 2., 1.],\n",
              "         [1., 3., 2., 3.],\n",
              "         [2., 1., 1., 2.],\n",
              "         [3., 2., 1., 4.]], dtype=float32)})"
            ]
          },
          "metadata": {
            "tags": []
          },
          "execution_count": 5
        }
      ]
    },
    {
      "cell_type": "markdown",
      "metadata": {
        "id": "grTyWIMbaFqN"
      },
      "source": [
        "Notice that we return a few other things. We'll see what they are in a second. In the meantime, here's a function to print the environment.\n",
        "Whenever you want to see what's going on, using this is a good idea."
      ]
    },
    {
      "cell_type": "code",
      "metadata": {
        "id": "6obfWBhITV0k"
      },
      "source": [
        "def env_print():\n",
        "    ''' Print the environment '''\n",
        "    global loc, maze\n",
        "    print('')\n",
        "    # chars = ['H', '~', '.', 'O', 'G'] \n",
        "    chars = ['H', 'S', 'D', 'P', 'G']\n",
        "    for i, row in enumerate(maze):\n",
        "        for j, num in enumerate(row):\n",
        "            if i == loc[0] and j == loc[1]:\n",
        "                char = 'X'\n",
        "            else:\n",
        "                char = chars[int(num)]\n",
        "            print(char, end=' ')\n",
        "        print('')"
      ],
      "execution_count": 5,
      "outputs": []
    },
    {
      "cell_type": "code",
      "metadata": {
        "colab": {
          "base_uri": "https://localhost:8080/"
        },
        "id": "TPqXwRprabgF",
        "outputId": "db53c42d-51c4-4f74-83cb-dcf0617a0550"
      },
      "source": [
        "env_print()"
      ],
      "execution_count": null,
      "outputs": [
        {
          "output_type": "stream",
          "text": [
            "\n",
            "X D D S \n",
            "S P D P \n",
            "D S S D \n",
            "P D S G \n"
          ],
          "name": "stdout"
        }
      ]
    },
    {
      "cell_type": "markdown",
      "metadata": {
        "id": "By4FwyQZbGRf"
      },
      "source": [
        "The following is the implementation of the actual logic of the environment. An environment takes an input (action) and computes the resulting state.\n",
        "It returns 1 if the game is done, the reward for the last step taken, and the observation/state of the environment.\n",
        "\n",
        "## Rewards\n",
        "Rewards are a really tricky part of RL, as they can cause large changes to agent behavior.\n",
        "In our simple environment, the reward is simple: 1 if you reach the goal, -1 if you fall in a pit, and 0 otherwise.\n",
        "  \n",
        "## Observations/State\n",
        "State is another complicated matter. In some games, an agent can only observe some of the environment at any one time.\n",
        "This makes these games much harder.\n",
        "In our game, the agent gets back the whole state of the game. We'll initially use only the location part of the state though.\n",
        "\n",
        "## Actions\n",
        "Our agent can only give us the actions UP, DOWN, LEFT or RIGHT as defined above.\n",
        "\n",
        "## Dynamics\n",
        "What kinds of dynamics does the environment need to take care of? Again, our environment is quite simple.\n",
        "\n",
        "* If the agent tries to move out of bounds, we ignore that action and \n",
        "* If the agent falls into a pit, the game is done and we give negative reward (-1).\n",
        "* If the agent gets to the goal, the game is done and we give positive reward (+1).\n",
        "* If the agent is currently on a slippery square, we ignore his action with a 40% chance,\n",
        "and instead choose from any other legitimate direction (ie not out of bounds).\n"
      ]
    },
    {
      "cell_type": "code",
      "metadata": {
        "id": "9n9cDk4LToEA"
      },
      "source": [
        "def env_step(action):\n",
        "    global loc\n",
        "    \n",
        "    \n",
        "    # UP, DOWN, RIGHT, LEFT\n",
        "#    moves = [(-1, 0), (1, 0), (0, 1), (0, -1)]\n",
        "    moves = [(0, 1), (0, -1), (1, 0), (-1, 0)]\n",
        "\n",
        "    move = np.array(moves[action])\n",
        "\n",
        "    # Check if slippery\n",
        "    if maze[tuple(loc)] == S:\n",
        "        if random.random() < SLIP_PERCENT:\n",
        "            move = np.array(random.choice(moves))\n",
        "\n",
        "    loc2 = loc + move\n",
        "\n",
        "    reward = 0.\n",
        "    done = 0\n",
        "    \n",
        "    \n",
        "    # Bounds check\n",
        "    if loc2[0] >= 0 and loc2[1] >= 0 and loc2[0] < len(maze) and loc2[1] < len(maze[0]):\n",
        "        loc = loc2 # Update loc\n",
        "\n",
        "        if maze[tuple(loc)] == G:\n",
        "            reward = 1.\n",
        "            done = 1\n",
        "        elif maze[tuple(loc)] == P:\n",
        "            reward = -1.\n",
        "            done = 1\n",
        "        \n",
        "\n",
        "    return (done, reward, {'maze':np.copy(maze), 'loc':np.copy(loc)})"
      ],
      "execution_count": 6,
      "outputs": []
    },
    {
      "cell_type": "code",
      "metadata": {
        "colab": {
          "base_uri": "https://localhost:8080/"
        },
        "id": "FhbOA03BdX-M",
        "outputId": "e078ab2b-1d36-4487-a26b-673b789256cc"
      },
      "source": [
        "# You can try give your environment directions and print it here to test it out.\n",
        "env_reset()\n",
        "env_print()\n",
        "env_step(DOWN)\n",
        "env_print()\n",
        "env_step(RIGHT)\n",
        "env_print()\n",
        "env_step(RIGHT)\n",
        "env_print()\n",
        "env_step(DOWN)\n",
        "env_print()\n",
        "env_reset()"
      ],
      "execution_count": null,
      "outputs": [
        {
          "output_type": "stream",
          "text": [
            "\n",
            "X D D S \n",
            "S P D P \n",
            "D S S D \n",
            "P D S G \n",
            "\n",
            "X D D S \n",
            "S P D P \n",
            "D S S D \n",
            "P D S G \n",
            "\n",
            "H D D S \n",
            "X P D P \n",
            "D S S D \n",
            "P D S G \n",
            "\n",
            "H D D S \n",
            "S P D P \n",
            "X S S D \n",
            "P D S G \n",
            "\n",
            "H D D S \n",
            "S P D P \n",
            "X S S D \n",
            "P D S G \n"
          ],
          "name": "stdout"
        },
        {
          "output_type": "execute_result",
          "data": {
            "text/plain": [
              "(0, 0.0, {'loc': array([0, 0]), 'maze': array([[0., 2., 2., 1.],\n",
              "         [1., 3., 2., 3.],\n",
              "         [2., 1., 1., 2.],\n",
              "         [3., 2., 1., 4.]], dtype=float32)})"
            ]
          },
          "metadata": {
            "tags": []
          },
          "execution_count": 9
        }
      ]
    },
    {
      "cell_type": "markdown",
      "metadata": {
        "id": "FxwX0xDif98h"
      },
      "source": [
        "# Q Table\n",
        "\n",
        "In Q-Learning we build a Q-Table to store Q values for all possible combinations of state and action pairs. The agent's policy, will be to choose to move into the next state which has the highest expected reward.\n",
        "\n",
        "Since we're only using location as our state, we can have an array of size 4x4, but then we need another dimension for the actions,\n",
        "making a tensor of 4x4x4. In each slot in our array, we'll store the value of that state-action combination,\n",
        "where value is the expected reward for the rest of the game. For example, in (0,0,1), we'll store the value of taking the action DOWN, when at location (0,0).\n",
        "\n",
        "The key step in updating our Q-table is the following:\n",
        "\n",
        "\\begin{equation}\n",
        "Q(s_t, a_t) \\leftarrow (1-\\alpha)Q(s_t, a_t) + \\alpha [R(s_{t+1}) + \\gamma \\max_{a} Q(s_{t+1}, a)]\n",
        "\\end{equation}\n",
        "\n",
        "\n",
        "\n",
        "Our algorithm is: reset the environment and initialize Q-table values randomly. \n",
        "\n",
        "```\n",
        "Loop for each episode:\n",
        "  Loop for each time step:\n",
        "    Choose Action a at State s using policy derived from Q-table (eps-greedy)\n",
        "    Take action a, observe R, s' (next state)\n",
        "    Update Q(s,a) \n",
        "    Update current state\n",
        "```\n",
        "\n",
        "We use an epsilon-greedy approach ie. we have epsilon chance of making a random move rather than using our Q-table.\n",
        "\n",
        "The idea behind epsilon-greedy is to explore more of the environment rather than exploit all we've seen so far. If we do end up using our knowledge held in the Q table (with 1-epsilon chance), we'll want to\n",
        "look at our current state in the array and take the action that gives us the higest value.\n",
        "\n",
        "After choosing a move, we tell the environment what the move was.\n",
        "The environment will hand us back the next state, our reward, and whether we're done.\n",
        "Now we need to update our knowledge of the environment.\n",
        "We'll update the value of the last state-action by mixing in the reward we just got, plus little bit of the value of the new state we arrived at $s'$.\n",
        "But how do we know the value of $s'$? Well, let's take the maximum value of $s'$ over all its possible actions.\n",
        "$\\alpha$ determines how much we 'mix in' the value of the new state-action. $\\gamma$ is used to attenuate the reward signal coming in from the \n",
        "next state $s'$. The hypothesis is that the further away the reward is, the less valuable it is, so it gets reduced by $\\gamma$ for every step\n",
        "we get away from it. \n"
      ]
    },
    {
      "cell_type": "code",
      "metadata": {
        "id": "Cu9f1zICTpOa"
      },
      "source": [
        "# Q array\n",
        "# state (4x4) * actions (4)\n",
        "q = np.zeros((4,4,4), dtype=np.float32)\n",
        "\n",
        "rewards = []\n",
        "epochs = 10000\n",
        "epsilon = 0.6\n",
        "gamma = 0.9\n",
        "alpha = 0.1\n",
        "\n",
        "(done, reward, state) = env_reset()\n",
        "state = tuple(state['loc'])\n",
        "\n",
        "for epoch in range(epochs):\n",
        "    #print('Epoch', epoch) # For debugging\n",
        "    iter = 0\n",
        "    ep_reward = 0\n",
        "    while not done:\n",
        "        # Epsilon-greedy\n",
        "        if random.random() < epsilon:\n",
        "            action = random.choice([UP, DOWN, LEFT, RIGHT])\n",
        "        else:\n",
        "            action = np.argmax(q[state])\n",
        "\n",
        "        (done2, reward, state2) = env_step(action)\n",
        "        ep_reward += reward\n",
        "        state2 = tuple(state2['loc'])\n",
        "\n",
        "        max_action2 = np.argmax(q[state2])\n",
        "        # Mix the current value of q at the old state-action with the reward we just got, added to\n",
        "        # the value of q at state2 and max_action2 * gamma. Alpha determines the mixture percentages.\n",
        "        q[state][action] = (1-alpha) * q[state][action] + alpha * (reward + gamma * q[state2][max_action2])\n",
        "        state = state2\n",
        "        done = done2\n",
        "        iter += 1\n",
        "\n",
        "    (done2, reward, state) = env_reset()\n",
        "    done = done2\n",
        "    state = tuple(state['loc'])\n",
        "    rewards.append(ep_reward)\n",
        "\n",
        "    epsilon -= 0.0001 # Reduce epsilon a little: we know a little bit more now\n",
        "   "
      ],
      "execution_count": null,
      "outputs": []
    },
    {
      "cell_type": "markdown",
      "metadata": {
        "id": "Z76z9bf3nez3"
      },
      "source": [
        "Plotting the reward signal in our case will not produce great results.\n",
        "We plot the reward signal summed over 100 episodes to view the results."
      ]
    },
    {
      "cell_type": "code",
      "metadata": {
        "colab": {
          "base_uri": "https://localhost:8080/",
          "height": 265
        },
        "id": "fnWzCkvPnThH",
        "outputId": "46c469eb-7a94-4bf0-ef7c-5b0b54e2be1d"
      },
      "source": [
        "rewards2 = []\n",
        "for i in range(0, len(rewards)):\n",
        "    rewards2.append(sum(rewards[i:i+100]))\n",
        "    \n",
        "plt.plot(rewards2[:-100])\n",
        "plt.show()\n",
        "    \n",
        "    "
      ],
      "execution_count": null,
      "outputs": [
        {
          "output_type": "display_data",
          "data": {
            "image/png": "[encoded data removed]",
            "text/plain": [
              "<Figure size 432x288 with 1 Axes>"
            ]
          },
          "metadata": {
            "tags": []
          }
        }
      ]
    },
    {
      "cell_type": "markdown",
      "metadata": {
        "id": "hfi4ALw1kQQq"
      },
      "source": [
        "Print out Q for all states, for the movement down action:"
      ]
    },
    {
      "cell_type": "code",
      "metadata": {
        "colab": {
          "base_uri": "https://localhost:8080/"
        },
        "id": "rPdOD5CIkdEb",
        "outputId": "f22b3997-0a91-4375-cc88-877ab972213b"
      },
      "source": [
        "\n",
        "print(q[:, :, 0])\n"
      ],
      "execution_count": null,
      "outputs": [
        {
          "output_type": "stream",
          "text": [
            "[[ 0.5438241   0.60394055  0.28928053 -0.01999697]\n",
            " [-0.39426523  0.         -0.99999976  0.        ]\n",
            " [ 0.55400515  0.22195193  0.73930275  0.8999995 ]\n",
            " [ 0.          0.8160961   0.908287    0.        ]]\n"
          ],
          "name": "stdout"
        }
      ]
    },
    {
      "cell_type": "markdown",
      "metadata": {
        "id": "s4I2D7mpoAaj"
      },
      "source": [
        "# Neural Network\n",
        "\n",
        "Notice that we haven't used deep learning yet! There are 2 issues with the above approach:\n",
        "1. It doesn't scale up. If we enlarge our maze or our action space, it'll run out of memory.\n",
        "2. It only works for states we've seen. What about states we haven't seen? We want to be able to generalize.\n",
        "\n",
        "Let's bring a neural network into this. Our neural network will replace the job of the Q array we used above. That is, the function that is Q (the value of every state-action) will be represented by our NN. We'll simplify things a little though: instead of taking the current state-action as input, we'll just take the current state as input, and produce one output value per action.\n",
        "\n",
        "Create a network with 3 linear layers, of hidden dimension sizes 8 and 16.\n",
        "Add 2 internal ReLU layers. The input and output sizes need to fit our needs.\n"
      ]
    },
    {
      "cell_type": "code",
      "metadata": {
        "id": "I6TUSxK1T06M"
      },
      "source": [
        "# Neural Network\n",
        "\n",
        "import torch\n",
        "import torch.nn as nn\n",
        "import torch.optim as optim\n",
        "import torch.nn.functional as F\n",
        "\n",
        "#maze = maze_big\n",
        "maze = maze_small\n",
        "\n",
        "#TODO define your model here\n",
        "#A simple start point is a 3-layer MLP (usig Relu as activation function) \n",
        "#with 8, 16 as intermediate channel numbers. Feel free to design your own model\n",
        "N_ACTIONS = 4\n",
        "class Net(nn.Module):\n",
        "    def __init__(self,):\n",
        "        super(Net,self).__init__()\n",
        "        self.linear1 = nn.Linear(2,8)\n",
        "        self.linear2 = nn.Linear(8,16)\n",
        "        self.out = nn.Linear(16,N_ACTIONS)\n",
        "    def forward(self,x):\n",
        "        x = self.linear1(x)\n",
        "        x = F.relu(x)\n",
        "        x = self.linear2(x)\n",
        "        x = F.relu(x)\n",
        "        x = self.out(x)\n",
        "        return x\n"
      ],
      "execution_count": 13,
      "outputs": []
    },
    {
      "cell_type": "markdown",
      "metadata": {
        "id": "zS-05-pZrXdT"
      },
      "source": [
        "Now let's implement the neural network version. We'll need:\n",
        "\n",
        "  * An optimizer declared before the loop\n",
        "  * To use zero_grad(), calculate a loss, and optimizer.step()\n",
        "  * Our loss will be slightly different. We don't need alpha anymore, since the optimizer naturally takes small steps. Our loss will be the squared l2 loss between:\n",
        "     * the reward + (gamma times the optimal Q of the next state-action)\n",
        "     * and the current Q for the current state-action that was taken.\n",
        "  * Don't forget to think about which parts of Q need to keep gradients and which don't. Which parts are we trying to modify?\n",
        "  "
      ]
    },
    {
      "cell_type": "code",
      "metadata": {
        "colab": {
          "base_uri": "https://localhost:8080/"
        },
        "id": "XmscffgpRpWU",
        "outputId": "9d21e05b-7b91-44f1-a864-bb4f9df27767"
      },
      "source": [
        "epochs = 15000\n",
        "epsilon = 0.3\n",
        "gamma = 0.9\n",
        "lr = 0.001\n",
        "rewards = []\n",
        "\n",
        "(done, reward, state) = env_reset()\n",
        "state = torch.from_numpy(state['loc']).float()\n",
        "#TODO initialize your model here\n",
        "q = Net()\n",
        "target_q = Net()\n",
        "optimizer = optim.Adam(lr=lr, params=q.parameters())\n",
        "loss_func = nn.MSELoss()\n",
        "replace_iter = 1300\n",
        "\n",
        "for epoch in range(epochs):\n",
        "    # print('Epoch', epoch) # For debugging\n",
        "    iter = 0\n",
        "    ep_reward = 0.\n",
        "    while not done:\n",
        "        if epoch % replace_iter == 0:\n",
        "            target_q.load_state_dict(q.state_dict())\n",
        "        # Take a step\n",
        "        if iter > 200: # Let's make sure we don't get stuck in a loop\n",
        "            print(epoch,\"stuck\")\n",
        "            break\n",
        "        if random.random() < epsilon:\n",
        "            action = random.choice([UP, DOWN, LEFT, RIGHT])\n",
        "        else:\n",
        "            #TODO choose action according to the client\n",
        "            #You might not want to calculate gradient on this action,\n",
        "            #Use with torch.no_grad(): to achieve that.\n",
        "            with torch.no_grad():\n",
        "              action = torch.max(q(state),0)[1].data.numpy() \n",
        "\n",
        "        (done2, reward, state2) = env_step(action)\n",
        "        ep_reward += reward\n",
        "        state2 = torch.from_numpy(state2['loc']).float()\n",
        "\n",
        "        # Now learn\n",
        "        # TODO implement learning procedure here\n",
        "        # hint: predict q_values of each action, calculate the l2 loss mentioned above\n",
        "        #       then do gradient descent\n",
        "        q_values = q(state)[action]\n",
        "        q_next = target_q(state2).detach()\n",
        "        q_target = reward + gamma * torch.max(q_next,0)[0]\n",
        "        loss = loss_func(q_values,q_target)\n",
        "\n",
        "        optimizer.zero_grad()\n",
        "        loss.backward()\n",
        "        optimizer.step()\n",
        "\n",
        "        state = state2\n",
        "        done = done2\n",
        "        iter += 1\n",
        "\n",
        "    (done2, reward, state) = env_reset()\n",
        "    done = done2\n",
        "    state = torch.from_numpy(state['loc']).float()\n",
        "    rewards.append(ep_reward)\n",
        "    #print(ep_reward)\n",
        "\n",
        "    epsilon -= 0.00004\n",
        "    # epsilon = max(0.05, epsilon)"
      ],
      "execution_count": 17,
      "outputs": [
        {
          "output_type": "stream",
          "text": [
            "2168 stuck\n",
            "2657 stuck\n",
            "2674 stuck\n",
            "2725 stuck\n",
            "2829 stuck\n",
            "2831 stuck\n",
            "2890 stuck\n",
            "3031 stuck\n",
            "3039 stuck\n",
            "3052 stuck\n",
            "3123 stuck\n",
            "3165 stuck\n",
            "3200 stuck\n",
            "3202 stuck\n",
            "3243 stuck\n",
            "3281 stuck\n",
            "3297 stuck\n",
            "3300 stuck\n",
            "3319 stuck\n",
            "3535 stuck\n",
            "3843 stuck\n",
            "3845 stuck\n",
            "3887 stuck\n",
            "3893 stuck\n"
          ],
          "name": "stdout"
        }
      ]
    },
    {
      "cell_type": "markdown",
      "metadata": {
        "id": "C7_qsFnms3L8"
      },
      "source": [
        "Once again, plot the rewards over time windows of 100 episodes so we get a better picture of performance"
      ]
    },
    {
      "cell_type": "code",
      "metadata": {
        "colab": {
          "base_uri": "https://localhost:8080/",
          "height": 265
        },
        "id": "OVTGDuw0Uf29",
        "outputId": "07dc6a06-fe98-49d9-cd5d-7ce5ff4be4ef"
      },
      "source": [
        "rewards2 = []\n",
        "for i in range(0, len(rewards)):\n",
        "    rewards2.append(sum(rewards[i:i+100]))\n",
        "plt.plot(rewards2[:-100])\n",
        "plt.show()"
      ],
      "execution_count": 18,
      "outputs": [
        {
          "output_type": "display_data",
          "data": {
            "image/png": "[encoded data removed]",
            "text/plain": [
              "<Figure size 432x288 with 1 Axes>"
            ]
          },
          "metadata": {
            "tags": [],
            "needs_background": "light"
          }
        }
      ]
    },
    {
      "cell_type": "markdown",
      "metadata": {
        "id": "k-z60mwEu4AM"
      },
      "source": [
        "There's an issue that occurs when we try to use neural networks: Q-Learning is unstable because when the agent explores an environment,\n",
        "each sample is dependent on the previous one ie. they're not IID.\n",
        "\n",
        "One fix for this problem is called Experience Replay, where we insert a state, action, reward, result state into our replay memory, and for the learning part, we sample\n",
        "some of it and learn from it. This is like getting 'flashbacks' of our recent behavior. This has another advantage: we can now learn with mini-batches, which is also more stable.\n",
        "\n",
        "Here's the memory class."
      ]
    },
    {
      "cell_type": "code",
      "metadata": {
        "id": "LYcrTx2BUB6Y"
      },
      "source": [
        "# Experience Replay Memory -----\n",
        "class Memory(object):\n",
        "    def __init__(self, size=1000):\n",
        "        self.memory = []\n",
        "        self.max_size = size\n",
        "        self.index = 0\n",
        "\n",
        "    def store(self, x):\n",
        "        if len(self.memory) < self.max_size:\n",
        "            self.memory.append(x)\n",
        "        else:\n",
        "            self.memory[self.index] = x\n",
        "            self.index = (self.index + 1) % self.max_size\n",
        "\n",
        "    def sample(self, num):\n",
        "        if len(self.memory) < num:\n",
        "            return self.memory\n",
        "        else:\n",
        "            return random.sample(self.memory, num)\n"
      ],
      "execution_count": 19,
      "outputs": []
    },
    {
      "cell_type": "markdown",
      "metadata": {
        "id": "-R2vQm89v5RO"
      },
      "source": [
        "Try creating a memory object, inserting some data, and then sampling from it. Notice how we insert sequentially, but get back a random mix of data."
      ]
    },
    {
      "cell_type": "code",
      "metadata": {
        "colab": {
          "base_uri": "https://localhost:8080/"
        },
        "id": "3URn-3UtwDGf",
        "outputId": "7965bcf9-765f-4b3d-904a-94cae78b3c42"
      },
      "source": [
        "memory = Memory()\n",
        "memory.store(1)\n",
        "memory.store(2)\n",
        "memory.store(3)\n",
        "memory.sample(2)"
      ],
      "execution_count": 20,
      "outputs": [
        {
          "output_type": "execute_result",
          "data": {
            "text/plain": [
              "[1, 2]"
            ]
          },
          "metadata": {
            "tags": []
          },
          "execution_count": 20
        }
      ]
    },
    {
      "cell_type": "markdown",
      "metadata": {
        "id": "7nDgY7dyvafv"
      },
      "source": [
        "Now modify our neural network to use experience replay memory. We'll place the training in a separte function since we don't want\n",
        "python to get confused with our variable names, and walking through the environment is now completely separate from learning\n",
        "about it.\n",
        "\n",
        "The biggest issue in getting this implementation working is that you'll have to deal with a batch of data rather than a single item at a time. Don't forget that loss must be a scalar!"
      ]
    },
    {
      "cell_type": "code",
      "metadata": {
        "colab": {
          "base_uri": "https://localhost:8080/"
        },
        "id": "lxmDKGWWUGUi",
        "outputId": "17300fb8-3229-4005-8a56-129b11fcd28a"
      },
      "source": [
        "# Neural Network with replay memory ----\n",
        "\n",
        "epochs = 15000\n",
        "epsilon = 0.2\n",
        "gamma = 0.9\n",
        "lr = 0.001\n",
        "batch_size = 4\n",
        "rewards = []\n",
        "\n",
        "(done, reward, state) = env_reset()\n",
        "state = torch.from_numpy(state['loc']).float()\n",
        "loss_func = nn.MSELoss()\n",
        "\n",
        "#TODO initialize your model here\n",
        "q = Net()\n",
        "target_q = Net()\n",
        "\n",
        "optimizer = optim.Adam(lr=lr, params=q.parameters())\n",
        "\n",
        "memory = Memory()\n",
        "\n",
        "total_iter = 0\n",
        "\n",
        "replace_iter = 500\n",
        "\n",
        "def train():\n",
        "    #TODO sample data with batch_size from memory\n",
        "\n",
        "    memory_data = memory.sample(batch_size)\n",
        "    state = []\n",
        "    state2 = []\n",
        "    action = []\n",
        "    reward = []\n",
        "    done2 = []\n",
        "    for i in range(batch_size):\n",
        "      state.append(memory_data[i][0].data.numpy())\n",
        "      state2.append(memory_data[i][1].data.numpy())\n",
        "      action.append(int(memory_data[i][2].data.numpy()))\n",
        "      reward.append(int(memory_data[i][3].data.numpy()))\n",
        "      done2.append(int(memory_data[i][4].data.numpy()))\n",
        "\n",
        "    state = torch.FloatTensor(state)\n",
        "    state2 = torch.FloatTensor(state2)\n",
        "    action = torch.LongTensor(action)\n",
        "    reward = torch.FloatTensor(reward)\n",
        "    done2 = torch.FloatTensor(done2)\n",
        "  \n",
        "    q_values = q(state).gather(1,action.view(-1,1)).squeeze(1)\n",
        "    q_next = target_q(state2).detach()\n",
        "    q_target = reward + gamma * torch.max(q_next,1)[0]\n",
        "    #TODO calculate loss\n",
        "    loss = loss_func(q_values,q_target)\n",
        "\n",
        "    optimizer.zero_grad()\n",
        "    loss.backward()\n",
        "    optimizer.step()\n",
        "\n",
        "for epoch in range(epochs):\n",
        "    iter = 0\n",
        "    ep_reward = 0.\n",
        "    while not done:\n",
        "        if epoch % replace_iter == 0:\n",
        "          target_q.load_state_dict(q.state_dict())\n",
        "        # Take a step\n",
        "        if iter > 200:\n",
        "            print(epoch,\"stuck\")\n",
        "            break\n",
        "        if random.random() < epsilon:\n",
        "            action = random.choice([UP, DOWN, LEFT, RIGHT])\n",
        "            action = torch.Tensor([action])[0].to(dtype=torch.long)\n",
        "        else:\n",
        "            #TODO get action according to prediction of model for this state\n",
        "            with torch.no_grad():\n",
        "              action = torch.max(q(state),0)[1]\n",
        "\n",
        "        (done2, reward, state2) = env_step(action)\n",
        "        state2 = torch.from_numpy(state2['loc']).float()\n",
        "        \n",
        "        ep_reward += reward\n",
        "\n",
        "        # Store data into memory\n",
        "        memory.store((state, state2, action,\n",
        "            torch.Tensor([reward])[0], torch.Tensor([done2])[0]))\n",
        "\n",
        "        # Now learn\n",
        "        if total_iter > batch_size:\n",
        "            train()\n",
        "\n",
        "        state = state2\n",
        "        done = done2\n",
        "        iter += 1\n",
        "        total_iter += 1\n",
        "\n",
        "    (done2, reward, state) = env_reset()\n",
        "    done = done2\n",
        "    rewards.append(ep_reward)\n",
        "    state = torch.from_numpy(state['loc']).float()\n",
        "\n",
        "    #epsilon -= 0.00002"
      ],
      "execution_count": null,
      "outputs": [
        {
          "output_type": "stream",
          "text": [
            "960 stuck\n"
          ],
          "name": "stdout"
        }
      ]
    },
    {
      "cell_type": "code",
      "metadata": {
        "colab": {
          "base_uri": "https://localhost:8080/",
          "height": 268
        },
        "id": "_GBXvkDw1bVX",
        "outputId": "6b3d04e0-97f9-4b12-d18c-3d3df1aedacf"
      },
      "source": [
        "rewards2 = []\n",
        "for i in range(0, len(rewards)):\n",
        "    rewards2.append(sum(rewards[i:i+100]))\n",
        "    \n",
        "plt.plot(rewards2[:-100])\n",
        "plt.show()"
      ],
      "execution_count": null,
      "outputs": [
        {
          "output_type": "display_data",
          "data": {
            "image/png": "[encoded data removed]",
            "text/plain": [
              "<Figure size 432x288 with 1 Axes>"
            ]
          },
          "metadata": {
            "tags": [],
            "needs_background": "light"
          }
        }
      ]
    },
    {
      "cell_type": "markdown",
      "metadata": {
        "id": "qucIASYoeJoW"
      },
      "source": [
        "##Evaluate the big maze"
      ]
    },
    {
      "cell_type": "code",
      "metadata": {
        "id": "mylPX1PyeRF9"
      },
      "source": [
        "maze = maze_big\n",
        "loc = np.array([0, 0]) # y, x\n",
        "\n",
        "UP = 0\n",
        "DOWN = 1\n",
        "RIGHT = 2\n",
        "LEFT = 3\n",
        "SLIP_PERCENT = 0.4 # Slipping from S"
      ],
      "execution_count": 4,
      "outputs": []
    },
    {
      "cell_type": "code",
      "metadata": {
        "id": "3PNnjO8oeydP"
      },
      "source": [
        "def env_reset():\n",
        "    global loc\n",
        "    # Find location of start\n",
        "    loc = np.dstack(np.nonzero(maze == H)).squeeze()\n",
        "    return (0, 0., {'maze':np.copy(maze), 'loc':np.copy(loc)})"
      ],
      "execution_count": 5,
      "outputs": []
    },
    {
      "cell_type": "code",
      "metadata": {
        "id": "i_QkK2iSe5lM"
      },
      "source": [
        "def env_print():\n",
        "    ''' Print the environment '''\n",
        "    global loc, maze\n",
        "    print('')\n",
        "    # chars = ['H', '~', '.', 'O', 'G'] \n",
        "    chars = ['H', 'S', 'D', 'P', 'G']\n",
        "    for i, row in enumerate(maze):\n",
        "        for j, num in enumerate(row):\n",
        "            if i == loc[0] and j == loc[1]:\n",
        "                char = 'X'\n",
        "            else:\n",
        "                char = chars[int(num)]\n",
        "            print(char, end=' ')\n",
        "        print('')"
      ],
      "execution_count": 6,
      "outputs": []
    },
    {
      "cell_type": "code",
      "metadata": {
        "id": "iCk769g1e9Ue"
      },
      "source": [
        "def env_step(action):\n",
        "    global loc\n",
        "    \n",
        "    \n",
        "    # UP, DOWN, RIGHT, LEFT\n",
        "#    moves = [(-1, 0), (1, 0), (0, 1), (0, -1)]\n",
        "    moves = [(0, 1), (0, -1), (1, 0), (-1, 0)]\n",
        "\n",
        "    move = np.array(moves[action])\n",
        "\n",
        "    # Check if slippery\n",
        "    if maze[tuple(loc)] == S:\n",
        "        if random.random() < SLIP_PERCENT:\n",
        "            move = np.array(random.choice(moves))\n",
        "\n",
        "    loc2 = loc + move\n",
        "\n",
        "    reward = 0.\n",
        "    done = 0\n",
        "    \n",
        "    \n",
        "    # Bounds check\n",
        "    if loc2[0] >= 0 and loc2[1] >= 0 and loc2[0] < len(maze) and loc2[1] < len(maze[0]):\n",
        "        loc = loc2 # Update loc\n",
        "\n",
        "        if maze[tuple(loc)] == G:\n",
        "            reward = 1.\n",
        "            done = 1\n",
        "        elif maze[tuple(loc)] == P:\n",
        "            reward = -1.\n",
        "            done = 1\n",
        "        \n",
        "\n",
        "    return (done, reward, {'maze':np.copy(maze), 'loc':np.copy(loc)})"
      ],
      "execution_count": 7,
      "outputs": []
    },
    {
      "cell_type": "code",
      "metadata": {
        "id": "N_8olEVeB_YF"
      },
      "source": [
        "class Memory_big(object):\n",
        "    def __init__(self, size=2000):\n",
        "        self.memory = []\n",
        "        self.max_size = size\n",
        "        self.index = 0\n",
        "\n",
        "    def store(self, x):\n",
        "        if len(self.memory) < self.max_size:\n",
        "            self.memory.append(x)\n",
        "        else:\n",
        "            self.memory[self.index] = x\n",
        "            self.index = (self.index + 1) % self.max_size\n",
        "\n",
        "    def sample(self, num):\n",
        "        if len(self.memory) < num:\n",
        "            return self.memory\n",
        "        else:\n",
        "            return random.sample(self.memory, num)"
      ],
      "execution_count": 9,
      "outputs": []
    },
    {
      "cell_type": "code",
      "metadata": {
        "colab": {
          "base_uri": "https://localhost:8080/"
        },
        "id": "8G4UQ053fius",
        "outputId": "727215d1-d172-440f-b669-da77a6f7e023"
      },
      "source": [
        "# Neural Network with replay memory ----\n",
        "\n",
        "epochs = 10000\n",
        "epsilon = 0.2\n",
        "gamma = 0.9\n",
        "lr = 0.001\n",
        "batch_size = 4\n",
        "rewards = []\n",
        "\n",
        "(done, reward, state) = env_reset()\n",
        "state = torch.from_numpy(state['loc']).float()\n",
        "loss_func = nn.MSELoss()\n",
        "\n",
        "#TODO initialize your model here\n",
        "q = Net()\n",
        "target_q = Net()\n",
        "\n",
        "optimizer = optim.Adam(lr=lr, params=q.parameters())\n",
        "\n",
        "memory = Memory_big()\n",
        "\n",
        "total_iter = 0\n",
        "\n",
        "replace_iter = 500\n",
        "\n",
        "def train():\n",
        "    #TODO sample data with batch_size from memory\n",
        "\n",
        "    memory_data = memory.sample(batch_size)\n",
        "    state = []\n",
        "    state2 = []\n",
        "    action = []\n",
        "    reward = []\n",
        "    done2 = []\n",
        "    for i in range(batch_size):\n",
        "      state.append(memory_data[i][0].data.numpy())\n",
        "      state2.append(memory_data[i][1].data.numpy())\n",
        "      action.append(int(memory_data[i][2].data.numpy()))\n",
        "      reward.append(int(memory_data[i][3].data.numpy()))\n",
        "      done2.append(int(memory_data[i][4].data.numpy()))\n",
        "\n",
        "    state = torch.FloatTensor(state)\n",
        "    state2 = torch.FloatTensor(state2)\n",
        "    action = torch.LongTensor(action)\n",
        "    reward = torch.FloatTensor(reward)\n",
        "    done2 = torch.FloatTensor(done2)\n",
        "  \n",
        "    q_values = q(state).gather(1,action.view(-1,1)).squeeze(1)\n",
        "    q_next = target_q(state2).detach()\n",
        "    q_target = reward + gamma * torch.max(q_next,1)[0]\n",
        "    #TODO calculate loss\n",
        "    loss = loss_func(q_values,q_target)\n",
        "\n",
        "    optimizer.zero_grad()\n",
        "    loss.backward()\n",
        "    optimizer.step()\n",
        "\n",
        "for epoch in range(epochs):\n",
        "    iter = 0\n",
        "    ep_reward = 0.\n",
        "    while not done:\n",
        "        if epoch % replace_iter == 0:\n",
        "          target_q.load_state_dict(q.state_dict())\n",
        "        # Take a step\n",
        "        if iter > 200:\n",
        "            print(epoch,\"stuck\")\n",
        "            break\n",
        "        if random.random() < epsilon:\n",
        "            action = random.choice([UP, DOWN, LEFT, RIGHT])\n",
        "            action = torch.Tensor([action])[0].to(dtype=torch.long)\n",
        "        else:\n",
        "            #TODO get action according to prediction of model for this state\n",
        "            with torch.no_grad():\n",
        "              action = torch.max(q(state),0)[1]\n",
        "\n",
        "        (done2, reward, state2) = env_step(action)\n",
        "        state2 = torch.from_numpy(state2['loc']).float()\n",
        "        \n",
        "        ep_reward += reward\n",
        "\n",
        "        # Store data into memory\n",
        "        memory.store((state, state2, action,\n",
        "            torch.Tensor([reward])[0], torch.Tensor([done2])[0]))\n",
        "\n",
        "        # Now learn\n",
        "        if total_iter > batch_size:\n",
        "            train()\n",
        "\n",
        "        state = state2\n",
        "        done = done2\n",
        "        iter += 1\n",
        "        total_iter += 1\n",
        "\n",
        "    (done2, reward, state) = env_reset()\n",
        "    done = done2\n",
        "    rewards.append(ep_reward)\n",
        "    state = torch.from_numpy(state['loc']).float()\n",
        "\n",
        "    #epsilon -= 0.00002"
      ],
      "execution_count": 16,
      "outputs": [
        {
          "output_type": "stream",
          "text": [
            "729 stuck\n",
            "1058 stuck\n",
            "1176 stuck\n",
            "1356 stuck\n",
            "1396 stuck\n",
            "1397 stuck\n",
            "1425 stuck\n",
            "1439 stuck\n",
            "1477 stuck\n",
            "1490 stuck\n",
            "1492 stuck\n"
          ],
          "name": "stdout"
        }
      ]
    },
    {
      "cell_type": "code",
      "metadata": {
        "colab": {
          "base_uri": "https://localhost:8080/",
          "height": 268
        },
        "id": "piT43fKaflLx",
        "outputId": "ee1214a7-28c9-46e3-b845-7e3e113876e8"
      },
      "source": [
        "rewards2 = []\n",
        "for i in range(0, len(rewards)):\n",
        "    rewards2.append(sum(rewards[i:i+100]))\n",
        "    \n",
        "plt.plot(rewards2[:-100])\n",
        "plt.show()"
      ],
      "execution_count": 17,
      "outputs": [
        {
          "output_type": "display_data",
          "data": {
            "image/png": "[encoded data removed]",
            "text/plain": [
              "<Figure size 432x288 with 1 Axes>"
            ]
          },
          "metadata": {
            "tags": [],
            "needs_background": "light"
          }
        }
      ]
    }
  ]
}