{
  "nbformat": 4,
  "nbformat_minor": 0,
  "metadata": {
    "accelerator": "GPU",
    "colab": {
      "name": "GANs.ipynb",
      "provenance": [],
      "collapsed_sections": [],
      "toc_visible": true
    },
    "kernelspec": {
      "display_name": "Python 3",
      "language": "python",
      "name": "python3"
    },
    "language_info": {
      "codemirror_mode": {
        "name": "ipython",
        "version": 3
      },
      "file_extension": ".py",
      "mimetype": "text/x-python",
      "name": "python",
      "nbconvert_exporter": "python",
      "pygments_lexer": "ipython3",
      "version": "3.7.10"
    },
    "widgets": {
      "application/vnd.jupyter.widget-state+json": {
        "b7b40ec8a61a4ced9c8d3857dc2396e3": {
          "model_module": "@jupyter-widgets/controls",
          "model_name": "HBoxModel",
          "state": {
            "_view_name": "HBoxView",
            "_dom_classes": [],
            "_model_name": "HBoxModel",
            "_view_module": "@jupyter-widgets/controls",
            "_model_module_version": "1.5.0",
            "_view_count": null,
            "_view_module_version": "1.5.0",
            "box_style": "",
            "layout": "IPY_MODEL_620edaa7c578433bb15c04d49e5a5f4d",
            "_model_module": "@jupyter-widgets/controls",
            "children": [
              "IPY_MODEL_1680912640294658823a2567278a064a",
              "IPY_MODEL_ad9178e3d568422abd5e072fe680366e"
            ]
          }
        },
        "620edaa7c578433bb15c04d49e5a5f4d": {
          "model_module": "@jupyter-widgets/base",
          "model_name": "LayoutModel",
          "state": {
            "_view_name": "LayoutView",
            "grid_template_rows": null,
            "right": null,
            "justify_content": null,
            "_view_module": "@jupyter-widgets/base",
            "overflow": null,
            "_model_module_version": "1.2.0",
            "_view_count": null,
            "flex_flow": null,
            "width": null,
            "min_width": null,
            "border": null,
            "align_items": null,
            "bottom": null,
            "_model_module": "@jupyter-widgets/base",
            "top": null,
            "grid_column": null,
            "overflow_y": null,
            "overflow_x": null,
            "grid_auto_flow": null,
            "grid_area": null,
            "grid_template_columns": null,
            "flex": null,
            "_model_name": "LayoutModel",
            "justify_items": null,
            "grid_row": null,
            "max_height": null,
            "align_content": null,
            "visibility": null,
            "align_self": null,
            "height": null,
            "min_height": null,
            "padding": null,
            "grid_auto_rows": null,
            "grid_gap": null,
            "max_width": null,
            "order": null,
            "_view_module_version": "1.2.0",
            "grid_template_areas": null,
            "object_position": null,
            "object_fit": null,
            "grid_auto_columns": null,
            "margin": null,
            "display": null,
            "left": null
          }
        },
        "1680912640294658823a2567278a064a": {
          "model_module": "@jupyter-widgets/controls",
          "model_name": "FloatProgressModel",
          "state": {
            "_view_name": "ProgressView",
            "style": "IPY_MODEL_e3a60dd4c64f4ad68f48a1a5ccc44ea7",
            "_dom_classes": [],
            "description": "",
            "_model_name": "FloatProgressModel",
            "bar_style": "success",
            "max": 9912422,
            "_view_module": "@jupyter-widgets/controls",
            "_model_module_version": "1.5.0",
            "value": 9912422,
            "_view_count": null,
            "_view_module_version": "1.5.0",
            "orientation": "horizontal",
            "min": 0,
            "description_tooltip": null,
            "_model_module": "@jupyter-widgets/controls",
            "layout": "IPY_MODEL_5ff5303d197044eb907cbe9a9ae3e93b"
          }
        },
        "ad9178e3d568422abd5e072fe680366e": {
          "model_module": "@jupyter-widgets/controls",
          "model_name": "HTMLModel",
          "state": {
            "_view_name": "HTMLView",
            "style": "IPY_MODEL_e3623f7fc44647d388823d935636c50a",
            "_dom_classes": [],
            "description": "",
            "_model_name": "HTMLModel",
            "placeholder": "​",
            "_view_module": "@jupyter-widgets/controls",
            "_model_module_version": "1.5.0",
            "value": " 9913344/? [1:03:44&lt;00:00, 2592.26it/s]",
            "_view_count": null,
            "_view_module_version": "1.5.0",
            "description_tooltip": null,
            "_model_module": "@jupyter-widgets/controls",
            "layout": "IPY_MODEL_6da9631613c942f6822f518539a5b8a7"
          }
        },
        "e3a60dd4c64f4ad68f48a1a5ccc44ea7": {
          "model_module": "@jupyter-widgets/controls",
          "model_name": "ProgressStyleModel",
          "state": {
            "_view_name": "StyleView",
            "_model_name": "ProgressStyleModel",
            "description_width": "initial",
            "_view_module": "@jupyter-widgets/base",
            "_model_module_version": "1.5.0",
            "_view_count": null,
            "_view_module_version": "1.2.0",
            "bar_color": null,
            "_model_module": "@jupyter-widgets/controls"
          }
        },
        "5ff5303d197044eb907cbe9a9ae3e93b": {
          "model_module": "@jupyter-widgets/base",
          "model_name": "LayoutModel",
          "state": {
            "_view_name": "LayoutView",
            "grid_template_rows": null,
            "right": null,
            "justify_content": null,
            "_view_module": "@jupyter-widgets/base",
            "overflow": null,
            "_model_module_version": "1.2.0",
            "_view_count": null,
            "flex_flow": null,
            "width": null,
            "min_width": null,
            "border": null,
            "align_items": null,
            "bottom": null,
            "_model_module": "@jupyter-widgets/base",
            "top": null,
            "grid_column": null,
            "overflow_y": null,
            "overflow_x": null,
            "grid_auto_flow": null,
            "grid_area": null,
            "grid_template_columns": null,
            "flex": null,
            "_model_name": "LayoutModel",
            "justify_items": null,
            "grid_row": null,
            "max_height": null,
            "align_content": null,
            "visibility": null,
            "align_self": null,
            "height": null,
            "min_height": null,
            "padding": null,
            "grid_auto_rows": null,
            "grid_gap": null,
            "max_width": null,
            "order": null,
            "_view_module_version": "1.2.0",
            "grid_template_areas": null,
            "object_position": null,
            "object_fit": null,
            "grid_auto_columns": null,
            "margin": null,
            "display": null,
            "left": null
          }
        },
        "e3623f7fc44647d388823d935636c50a": {
          "model_module": "@jupyter-widgets/controls",
          "model_name": "DescriptionStyleModel",
          "state": {
            "_view_name": "StyleView",
            "_model_name": "DescriptionStyleModel",
            "description_width": "",
            "_view_module": "@jupyter-widgets/base",
            "_model_module_version": "1.5.0",
            "_view_count": null,
            "_view_module_version": "1.2.0",
            "_model_module": "@jupyter-widgets/controls"
          }
        },
        "6da9631613c942f6822f518539a5b8a7": {
          "model_module": "@jupyter-widgets/base",
          "model_name": "LayoutModel",
          "state": {
            "_view_name": "LayoutView",
            "grid_template_rows": null,
            "right": null,
            "justify_content": null,
            "_view_module": "@jupyter-widgets/base",
            "overflow": null,
            "_model_module_version": "1.2.0",
            "_view_count": null,
            "flex_flow": null,
            "width": null,
            "min_width": null,
            "border": null,
            "align_items": null,
            "bottom": null,
            "_model_module": "@jupyter-widgets/base",
            "top": null,
            "grid_column": null,
            "overflow_y": null,
            "overflow_x": null,
            "grid_auto_flow": null,
            "grid_area": null,
            "grid_template_columns": null,
            "flex": null,
            "_model_name": "LayoutModel",
            "justify_items": null,
            "grid_row": null,
            "max_height": null,
            "align_content": null,
            "visibility": null,
            "align_self": null,
            "height": null,
            "min_height": null,
            "padding": null,
            "grid_auto_rows": null,
            "grid_gap": null,
            "max_width": null,
            "order": null,
            "_view_module_version": "1.2.0",
            "grid_template_areas": null,
            "object_position": null,
            "object_fit": null,
            "grid_auto_columns": null,
            "margin": null,
            "display": null,
            "left": null
          }
        },
        "46e922b1a0ae4b478ce1a338c0483eb6": {
          "model_module": "@jupyter-widgets/controls",
          "model_name": "HBoxModel",
          "state": {
            "_view_name": "HBoxView",
            "_dom_classes": [],
            "_model_name": "HBoxModel",
            "_view_module": "@jupyter-widgets/controls",
            "_model_module_version": "1.5.0",
            "_view_count": null,
            "_view_module_version": "1.5.0",
            "box_style": "",
            "layout": "IPY_MODEL_19eb3f95c6ef409d8fd887f8a24d9699",
            "_model_module": "@jupyter-widgets/controls",
            "children": [
              "IPY_MODEL_ede341d721da4f6dbdedba6f8bad6374",
              "IPY_MODEL_d5a1e4ce692341ceb2821f3467800c7d"
            ]
          }
        },
        "19eb3f95c6ef409d8fd887f8a24d9699": {
          "model_module": "@jupyter-widgets/base",
          "model_name": "LayoutModel",
          "state": {
            "_view_name": "LayoutView",
            "grid_template_rows": null,
            "right": null,
            "justify_content": null,
            "_view_module": "@jupyter-widgets/base",
            "overflow": null,
            "_model_module_version": "1.2.0",
            "_view_count": null,
            "flex_flow": null,
            "width": null,
            "min_width": null,
            "border": null,
            "align_items": null,
            "bottom": null,
            "_model_module": "@jupyter-widgets/base",
            "top": null,
            "grid_column": null,
            "overflow_y": null,
            "overflow_x": null,
            "grid_auto_flow": null,
            "grid_area": null,
            "grid_template_columns": null,
            "flex": null,
            "_model_name": "LayoutModel",
            "justify_items": null,
            "grid_row": null,
            "max_height": null,
            "align_content": null,
            "visibility": null,
            "align_self": null,
            "height": null,
            "min_height": null,
            "padding": null,
            "grid_auto_rows": null,
            "grid_gap": null,
            "max_width": null,
            "order": null,
            "_view_module_version": "1.2.0",
            "grid_template_areas": null,
            "object_position": null,
            "object_fit": null,
            "grid_auto_columns": null,
            "margin": null,
            "display": null,
            "left": null
          }
        },
        "ede341d721da4f6dbdedba6f8bad6374": {
          "model_module": "@jupyter-widgets/controls",
          "model_name": "FloatProgressModel",
          "state": {
            "_view_name": "ProgressView",
            "style": "IPY_MODEL_8995d97a61e74340b40c637a46b0f427",
            "_dom_classes": [],
            "description": "",
            "_model_name": "FloatProgressModel",
            "bar_style": "success",
            "max": 28881,
            "_view_module": "@jupyter-widgets/controls",
            "_model_module_version": "1.5.0",
            "value": 28881,
            "_view_count": null,
            "_view_module_version": "1.5.0",
            "orientation": "horizontal",
            "min": 0,
            "description_tooltip": null,
            "_model_module": "@jupyter-widgets/controls",
            "layout": "IPY_MODEL_7d792af387b7456e979de204793e7caf"
          }
        },
        "d5a1e4ce692341ceb2821f3467800c7d": {
          "model_module": "@jupyter-widgets/controls",
          "model_name": "HTMLModel",
          "state": {
            "_view_name": "HTMLView",
            "style": "IPY_MODEL_51f5bcca59ee4efaa12ef361a5426187",
            "_dom_classes": [],
            "description": "",
            "_model_name": "HTMLModel",
            "placeholder": "​",
            "_view_module": "@jupyter-widgets/controls",
            "_model_module_version": "1.5.0",
            "value": " 29696/? [00:49&lt;00:00, 603.99it/s]",
            "_view_count": null,
            "_view_module_version": "1.5.0",
            "description_tooltip": null,
            "_model_module": "@jupyter-widgets/controls",
            "layout": "IPY_MODEL_bda091b6013e4fee802dcd90646d6b70"
          }
        },
        "8995d97a61e74340b40c637a46b0f427": {
          "model_module": "@jupyter-widgets/controls",
          "model_name": "ProgressStyleModel",
          "state": {
            "_view_name": "StyleView",
            "_model_name": "ProgressStyleModel",
            "description_width": "initial",
            "_view_module": "@jupyter-widgets/base",
            "_model_module_version": "1.5.0",
            "_view_count": null,
            "_view_module_version": "1.2.0",
            "bar_color": null,
            "_model_module": "@jupyter-widgets/controls"
          }
        },
        "7d792af387b7456e979de204793e7caf": {
          "model_module": "@jupyter-widgets/base",
          "model_name": "LayoutModel",
          "state": {
            "_view_name": "LayoutView",
            "grid_template_rows": null,
            "right": null,
            "justify_content": null,
            "_view_module": "@jupyter-widgets/base",
            "overflow": null,
            "_model_module_version": "1.2.0",
            "_view_count": null,
            "flex_flow": null,
            "width": null,
            "min_width": null,
            "border": null,
            "align_items": null,
            "bottom": null,
            "_model_module": "@jupyter-widgets/base",
            "top": null,
            "grid_column": null,
            "overflow_y": null,
            "overflow_x": null,
            "grid_auto_flow": null,
            "grid_area": null,
            "grid_template_columns": null,
            "flex": null,
            "_model_name": "LayoutModel",
            "justify_items": null,
            "grid_row": null,
            "max_height": null,
            "align_content": null,
            "visibility": null,
            "align_self": null,
            "height": null,
            "min_height": null,
            "padding": null,
            "grid_auto_rows": null,
            "grid_gap": null,
            "max_width": null,
            "order": null,
            "_view_module_version": "1.2.0",
            "grid_template_areas": null,
            "object_position": null,
            "object_fit": null,
            "grid_auto_columns": null,
            "margin": null,
            "display": null,
            "left": null
          }
        },
        "51f5bcca59ee4efaa12ef361a5426187": {
          "model_module": "@jupyter-widgets/controls",
          "model_name": "DescriptionStyleModel",
          "state": {
            "_view_name": "StyleView",
            "_model_name": "DescriptionStyleModel",
            "description_width": "",
            "_view_module": "@jupyter-widgets/base",
            "_model_module_version": "1.5.0",
            "_view_count": null,
            "_view_module_version": "1.2.0",
            "_model_module": "@jupyter-widgets/controls"
          }
        },
        "bda091b6013e4fee802dcd90646d6b70": {
          "model_module": "@jupyter-widgets/base",
          "model_name": "LayoutModel",
          "state": {
            "_view_name": "LayoutView",
            "grid_template_rows": null,
            "right": null,
            "justify_content": null,
            "_view_module": "@jupyter-widgets/base",
            "overflow": null,
            "_model_module_version": "1.2.0",
            "_view_count": null,
            "flex_flow": null,
            "width": null,
            "min_width": null,
            "border": null,
            "align_items": null,
            "bottom": null,
            "_model_module": "@jupyter-widgets/base",
            "top": null,
            "grid_column": null,
            "overflow_y": null,
            "overflow_x": null,
            "grid_auto_flow": null,
            "grid_area": null,
            "grid_template_columns": null,
            "flex": null,
            "_model_name": "LayoutModel",
            "justify_items": null,
            "grid_row": null,
            "max_height": null,
            "align_content": null,
            "visibility": null,
            "align_self": null,
            "height": null,
            "min_height": null,
            "padding": null,
            "grid_auto_rows": null,
            "grid_gap": null,
            "max_width": null,
            "order": null,
            "_view_module_version": "1.2.0",
            "grid_template_areas": null,
            "object_position": null,
            "object_fit": null,
            "grid_auto_columns": null,
            "margin": null,
            "display": null,
            "left": null
          }
        },
        "1c9bde5a67124c4c831113eb4346f0b9": {
          "model_module": "@jupyter-widgets/controls",
          "model_name": "HBoxModel",
          "state": {
            "_view_name": "HBoxView",
            "_dom_classes": [],
            "_model_name": "HBoxModel",
            "_view_module": "@jupyter-widgets/controls",
            "_model_module_version": "1.5.0",
            "_view_count": null,
            "_view_module_version": "1.5.0",
            "box_style": "",
            "layout": "IPY_MODEL_d8b0dfea57ac4e54826dc219747d6075",
            "_model_module": "@jupyter-widgets/controls",
            "children": [
              "IPY_MODEL_23b6af1c35964ce08410be19abcbcc50",
              "IPY_MODEL_9d9c13a8e9134cd885a88314c3c7a36c"
            ]
          }
        },
        "d8b0dfea57ac4e54826dc219747d6075": {
          "model_module": "@jupyter-widgets/base",
          "model_name": "LayoutModel",
          "state": {
            "_view_name": "LayoutView",
            "grid_template_rows": null,
            "right": null,
            "justify_content": null,
            "_view_module": "@jupyter-widgets/base",
            "overflow": null,
            "_model_module_version": "1.2.0",
            "_view_count": null,
            "flex_flow": null,
            "width": null,
            "min_width": null,
            "border": null,
            "align_items": null,
            "bottom": null,
            "_model_module": "@jupyter-widgets/base",
            "top": null,
            "grid_column": null,
            "overflow_y": null,
            "overflow_x": null,
            "grid_auto_flow": null,
            "grid_area": null,
            "grid_template_columns": null,
            "flex": null,
            "_model_name": "LayoutModel",
            "justify_items": null,
            "grid_row": null,
            "max_height": null,
            "align_content": null,
            "visibility": null,
            "align_self": null,
            "height": null,
            "min_height": null,
            "padding": null,
            "grid_auto_rows": null,
            "grid_gap": null,
            "max_width": null,
            "order": null,
            "_view_module_version": "1.2.0",
            "grid_template_areas": null,
            "object_position": null,
            "object_fit": null,
            "grid_auto_columns": null,
            "margin": null,
            "display": null,
            "left": null
          }
        },
        "23b6af1c35964ce08410be19abcbcc50": {
          "model_module": "@jupyter-widgets/controls",
          "model_name": "FloatProgressModel",
          "state": {
            "_view_name": "ProgressView",
            "style": "IPY_MODEL_81e08e0230c5471294131d7f8a992a5c",
            "_dom_classes": [],
            "description": "",
            "_model_name": "FloatProgressModel",
            "bar_style": "success",
            "max": 1648877,
            "_view_module": "@jupyter-widgets/controls",
            "_model_module_version": "1.5.0",
            "value": 1648877,
            "_view_count": null,
            "_view_module_version": "1.5.0",
            "orientation": "horizontal",
            "min": 0,
            "description_tooltip": null,
            "_model_module": "@jupyter-widgets/controls",
            "layout": "IPY_MODEL_c0c996e43d5e42229971e1ef4e7e726d"
          }
        },
        "9d9c13a8e9134cd885a88314c3c7a36c": {
          "model_module": "@jupyter-widgets/controls",
          "model_name": "HTMLModel",
          "state": {
            "_view_name": "HTMLView",
            "style": "IPY_MODEL_6462997011814531883fdd71d617c37e",
            "_dom_classes": [],
            "description": "",
            "_model_name": "HTMLModel",
            "placeholder": "​",
            "_view_module": "@jupyter-widgets/controls",
            "_model_module_version": "1.5.0",
            "value": " 1649664/? [00:48&lt;00:00, 34054.88it/s]",
            "_view_count": null,
            "_view_module_version": "1.5.0",
            "description_tooltip": null,
            "_model_module": "@jupyter-widgets/controls",
            "layout": "IPY_MODEL_40e21366168a4a56a45860c9a75c2c0d"
          }
        },
        "81e08e0230c5471294131d7f8a992a5c": {
          "model_module": "@jupyter-widgets/controls",
          "model_name": "ProgressStyleModel",
          "state": {
            "_view_name": "StyleView",
            "_model_name": "ProgressStyleModel",
            "description_width": "initial",
            "_view_module": "@jupyter-widgets/base",
            "_model_module_version": "1.5.0",
            "_view_count": null,
            "_view_module_version": "1.2.0",
            "bar_color": null,
            "_model_module": "@jupyter-widgets/controls"
          }
        },
        "c0c996e43d5e42229971e1ef4e7e726d": {
          "model_module": "@jupyter-widgets/base",
          "model_name": "LayoutModel",
          "state": {
            "_view_name": "LayoutView",
            "grid_template_rows": null,
            "right": null,
            "justify_content": null,
            "_view_module": "@jupyter-widgets/base",
            "overflow": null,
            "_model_module_version": "1.2.0",
            "_view_count": null,
            "flex_flow": null,
            "width": null,
            "min_width": null,
            "border": null,
            "align_items": null,
            "bottom": null,
            "_model_module": "@jupyter-widgets/base",
            "top": null,
            "grid_column": null,
            "overflow_y": null,
            "overflow_x": null,
            "grid_auto_flow": null,
            "grid_area": null,
            "grid_template_columns": null,
            "flex": null,
            "_model_name": "LayoutModel",
            "justify_items": null,
            "grid_row": null,
            "max_height": null,
            "align_content": null,
            "visibility": null,
            "align_self": null,
            "height": null,
            "min_height": null,
            "padding": null,
            "grid_auto_rows": null,
            "grid_gap": null,
            "max_width": null,
            "order": null,
            "_view_module_version": "1.2.0",
            "grid_template_areas": null,
            "object_position": null,
            "object_fit": null,
            "grid_auto_columns": null,
            "margin": null,
            "display": null,
            "left": null
          }
        },
        "6462997011814531883fdd71d617c37e": {
          "model_module": "@jupyter-widgets/controls",
          "model_name": "DescriptionStyleModel",
          "state": {
            "_view_name": "StyleView",
            "_model_name": "DescriptionStyleModel",
            "description_width": "",
            "_view_module": "@jupyter-widgets/base",
            "_model_module_version": "1.5.0",
            "_view_count": null,
            "_view_module_version": "1.2.0",
            "_model_module": "@jupyter-widgets/controls"
          }
        },
        "40e21366168a4a56a45860c9a75c2c0d": {
          "model_module": "@jupyter-widgets/base",
          "model_name": "LayoutModel",
          "state": {
            "_view_name": "LayoutView",
            "grid_template_rows": null,
            "right": null,
            "justify_content": null,
            "_view_module": "@jupyter-widgets/base",
            "overflow": null,
            "_model_module_version": "1.2.0",
            "_view_count": null,
            "flex_flow": null,
            "width": null,
            "min_width": null,
            "border": null,
            "align_items": null,
            "bottom": null,
            "_model_module": "@jupyter-widgets/base",
            "top": null,
            "grid_column": null,
            "overflow_y": null,
            "overflow_x": null,
            "grid_auto_flow": null,
            "grid_area": null,
            "grid_template_columns": null,
            "flex": null,
            "_model_name": "LayoutModel",
            "justify_items": null,
            "grid_row": null,
            "max_height": null,
            "align_content": null,
            "visibility": null,
            "align_self": null,
            "height": null,
            "min_height": null,
            "padding": null,
            "grid_auto_rows": null,
            "grid_gap": null,
            "max_width": null,
            "order": null,
            "_view_module_version": "1.2.0",
            "grid_template_areas": null,
            "object_position": null,
            "object_fit": null,
            "grid_auto_columns": null,
            "margin": null,
            "display": null,
            "left": null
          }
        },
        "9073b6c211e54ee89f28256483a8d40c": {
          "model_module": "@jupyter-widgets/controls",
          "model_name": "HBoxModel",
          "state": {
            "_view_name": "HBoxView",
            "_dom_classes": [],
            "_model_name": "HBoxModel",
            "_view_module": "@jupyter-widgets/controls",
            "_model_module_version": "1.5.0",
            "_view_count": null,
            "_view_module_version": "1.5.0",
            "box_style": "",
            "layout": "IPY_MODEL_db508af6f6df43769fc04b1ee7d35351",
            "_model_module": "@jupyter-widgets/controls",
            "children": [
              "IPY_MODEL_ce82d2e108c4401c89429ecaf80c53ef",
              "IPY_MODEL_5707e943da264ef7a5e8827d6e387360"
            ]
          }
        },
        "db508af6f6df43769fc04b1ee7d35351": {
          "model_module": "@jupyter-widgets/base",
          "model_name": "LayoutModel",
          "state": {
            "_view_name": "LayoutView",
            "grid_template_rows": null,
            "right": null,
            "justify_content": null,
            "_view_module": "@jupyter-widgets/base",
            "overflow": null,
            "_model_module_version": "1.2.0",
            "_view_count": null,
            "flex_flow": null,
            "width": null,
            "min_width": null,
            "border": null,
            "align_items": null,
            "bottom": null,
            "_model_module": "@jupyter-widgets/base",
            "top": null,
            "grid_column": null,
            "overflow_y": null,
            "overflow_x": null,
            "grid_auto_flow": null,
            "grid_area": null,
            "grid_template_columns": null,
            "flex": null,
            "_model_name": "LayoutModel",
            "justify_items": null,
            "grid_row": null,
            "max_height": null,
            "align_content": null,
            "visibility": null,
            "align_self": null,
            "height": null,
            "min_height": null,
            "padding": null,
            "grid_auto_rows": null,
            "grid_gap": null,
            "max_width": null,
            "order": null,
            "_view_module_version": "1.2.0",
            "grid_template_areas": null,
            "object_position": null,
            "object_fit": null,
            "grid_auto_columns": null,
            "margin": null,
            "display": null,
            "left": null
          }
        },
        "ce82d2e108c4401c89429ecaf80c53ef": {
          "model_module": "@jupyter-widgets/controls",
          "model_name": "FloatProgressModel",
          "state": {
            "_view_name": "ProgressView",
            "style": "IPY_MODEL_444341b15f4847088eaaee8c43373e8a",
            "_dom_classes": [],
            "description": "",
            "_model_name": "FloatProgressModel",
            "bar_style": "success",
            "max": 4542,
            "_view_module": "@jupyter-widgets/controls",
            "_model_module_version": "1.5.0",
            "value": 4542,
            "_view_count": null,
            "_view_module_version": "1.5.0",
            "orientation": "horizontal",
            "min": 0,
            "description_tooltip": null,
            "_model_module": "@jupyter-widgets/controls",
            "layout": "IPY_MODEL_1b00bd4265fe4f6f936f2a2c6ad238fd"
          }
        },
        "5707e943da264ef7a5e8827d6e387360": {
          "model_module": "@jupyter-widgets/controls",
          "model_name": "HTMLModel",
          "state": {
            "_view_name": "HTMLView",
            "style": "IPY_MODEL_5f4ba9b9b460468e98533f7809682212",
            "_dom_classes": [],
            "description": "",
            "_model_name": "HTMLModel",
            "placeholder": "​",
            "_view_module": "@jupyter-widgets/controls",
            "_model_module_version": "1.5.0",
            "value": " 5120/? [57:51&lt;00:00,  1.47it/s]",
            "_view_count": null,
            "_view_module_version": "1.5.0",
            "description_tooltip": null,
            "_model_module": "@jupyter-widgets/controls",
            "layout": "IPY_MODEL_02f7225fc1e047e687c2a1a77560e2db"
          }
        },
        "444341b15f4847088eaaee8c43373e8a": {
          "model_module": "@jupyter-widgets/controls",
          "model_name": "ProgressStyleModel",
          "state": {
            "_view_name": "StyleView",
            "_model_name": "ProgressStyleModel",
            "description_width": "initial",
            "_view_module": "@jupyter-widgets/base",
            "_model_module_version": "1.5.0",
            "_view_count": null,
            "_view_module_version": "1.2.0",
            "bar_color": null,
            "_model_module": "@jupyter-widgets/controls"
          }
        },
        "1b00bd4265fe4f6f936f2a2c6ad238fd": {
          "model_module": "@jupyter-widgets/base",
          "model_name": "LayoutModel",
          "state": {
            "_view_name": "LayoutView",
            "grid_template_rows": null,
            "right": null,
            "justify_content": null,
            "_view_module": "@jupyter-widgets/base",
            "overflow": null,
            "_model_module_version": "1.2.0",
            "_view_count": null,
            "flex_flow": null,
            "width": null,
            "min_width": null,
            "border": null,
            "align_items": null,
            "bottom": null,
            "_model_module": "@jupyter-widgets/base",
            "top": null,
            "grid_column": null,
            "overflow_y": null,
            "overflow_x": null,
            "grid_auto_flow": null,
            "grid_area": null,
            "grid_template_columns": null,
            "flex": null,
            "_model_name": "LayoutModel",
            "justify_items": null,
            "grid_row": null,
            "max_height": null,
            "align_content": null,
            "visibility": null,
            "align_self": null,
            "height": null,
            "min_height": null,
            "padding": null,
            "grid_auto_rows": null,
            "grid_gap": null,
            "max_width": null,
            "order": null,
            "_view_module_version": "1.2.0",
            "grid_template_areas": null,
            "object_position": null,
            "object_fit": null,
            "grid_auto_columns": null,
            "margin": null,
            "display": null,
            "left": null
          }
        },
        "5f4ba9b9b460468e98533f7809682212": {
          "model_module": "@jupyter-widgets/controls",
          "model_name": "DescriptionStyleModel",
          "state": {
            "_view_name": "StyleView",
            "_model_name": "DescriptionStyleModel",
            "description_width": "",
            "_view_module": "@jupyter-widgets/base",
            "_model_module_version": "1.5.0",
            "_view_count": null,
            "_view_module_version": "1.2.0",
            "_model_module": "@jupyter-widgets/controls"
          }
        },
        "02f7225fc1e047e687c2a1a77560e2db": {
          "model_module": "@jupyter-widgets/base",
          "model_name": "LayoutModel",
          "state": {
            "_view_name": "LayoutView",
            "grid_template_rows": null,
            "right": null,
            "justify_content": null,
            "_view_module": "@jupyter-widgets/base",
            "overflow": null,
            "_model_module_version": "1.2.0",
            "_view_count": null,
            "flex_flow": null,
            "width": null,
            "min_width": null,
            "border": null,
            "align_items": null,
            "bottom": null,
            "_model_module": "@jupyter-widgets/base",
            "top": null,
            "grid_column": null,
            "overflow_y": null,
            "overflow_x": null,
            "grid_auto_flow": null,
            "grid_area": null,
            "grid_template_columns": null,
            "flex": null,
            "_model_name": "LayoutModel",
            "justify_items": null,
            "grid_row": null,
            "max_height": null,
            "align_content": null,
            "visibility": null,
            "align_self": null,
            "height": null,
            "min_height": null,
            "padding": null,
            "grid_auto_rows": null,
            "grid_gap": null,
            "max_width": null,
            "order": null,
            "_view_module_version": "1.2.0",
            "grid_template_areas": null,
            "object_position": null,
            "object_fit": null,
            "grid_auto_columns": null,
            "margin": null,
            "display": null,
            "left": null
          }
        }
      }
    }
  },
  "cells": [
    {
      "cell_type": "markdown",
      "metadata": {
        "id": "o9DEzemoAtGj"
      },
      "source": [
        "# Generative Adversarial Networks (GANs)\n",
        "\n",
        "In this homework, you will be working with GANs."
      ]
    },
    {
      "cell_type": "code",
      "metadata": {
        "id": "I9F2GKXBAtG0"
      },
      "source": [
        "%matplotlib inline\n",
        "import torch\n",
        "import torch.utils.data\n",
        "import torch.nn as nn\n",
        "import torch.optim as optim\n",
        "import torch.nn.functional as F\n",
        "\n",
        "import numpy as np\n",
        "import matplotlib.pyplot as plt\n",
        "\n",
        "from torchvision.models.inception import inception_v3\n",
        "from torchvision import datasets, transforms\n",
        "from scipy.stats import entropy\n",
        "import copy\n",
        "\n",
        "import itertools\n",
        "\n",
        "torch.manual_seed(0); #you may want to make use of this in various cells for reproducability\n",
        "gpu_boole = torch.cuda.is_available()"
      ],
      "execution_count": null,
      "outputs": []
    },
    {
      "cell_type": "markdown",
      "metadata": {
        "id": "sHfaScN3AtG3"
      },
      "source": [
        "## 1. Introduction and Motivation\n",
        "\n",
        "As a recap from lecture:\n",
        "\n",
        "GANs are a popular architecture class for\n",
        "generating data. They were first introduced in (Goodfellow et al 2014). \n",
        "\n",
        "The two major components of a GAN framework are a Discriminator network $D$ and\n",
        "a Generator network $G$.\n",
        "\n",
        "$D$ takes a data sample as input and decides whether it is real (coming from the actual \n",
        "training set) or fake (generated artificially). $G$ takes some random noise vector\n",
        "$z$ as input and outputs a generated sample. \n",
        "\n",
        "In practice, these networks \"battle\": $G$ continually attmepts to generate\n",
        "more realistic samples and $D$ continually tries to get better at distinguishing\n",
        "real samples from fake smaples. This can be formulated as a min-max zero sum game:\n",
        "\n",
        "$$\\min_G \\max_D V(D, G) = \\mathbb{E}_{x \\sim p_{data}(x)} [\\log D(x)] + \\mathbb{E}_{z \\sim p_z(z)} [\\log (1 - D(G(z))]$$\n",
        "where $p_z(z)$ denotes a defined prior over the noise vector. Local and global minima for this problem exist at local and global Nash Equilibria.\n",
        "\n",
        "The hope is that, over training, $D$ becomes a very good discriminator and $G$ becomes\n",
        "a very good generator. At the end of training, we can then make use of $G$\n",
        "to generate nice looking samples that seem like they were drawn from the original\n",
        "distribution."
      ]
    },
    {
      "cell_type": "markdown",
      "metadata": {
        "id": "LrHEMlizAtHc"
      },
      "source": [
        "## 2. Experiments on MNIST\n",
        "\n",
        "Now we move on to MNIST experiments.\n",
        "\n",
        "### 2.1. Inception Score"
      ]
    },
    {
      "cell_type": "markdown",
      "metadata": {
        "id": "T7MFEp4NAtHd"
      },
      "source": [
        "Rather than just eye-balling whether GAN samples look good or not,\n",
        "researchers have come up with objective metrics for determining the quality\n",
        "and breadth of GAN outputs. One such metric is called the inception score (IS),\n",
        "which we will be using, although it is not without its drawbacks. It can be implemented in multiple ways. The higher the inception score, the better our GAN model is.\n",
        "\n",
        "A detailed and thorough explanation of IS can be found at multiple sources.  For example, you can read more about it [here](https://medium.com/octavian-ai/a-simple-explanation-of-the-inception-score-372dff6a8c7a). Roughly stated, for a dataset with a given number of classes, high inception scores correspond to GAN samples that have low intra-class entropy and high inter-class entropy.\n",
        "\n",
        "To make your life easier, we provide the implementation of IS score for you."
      ]
    },
    {
      "cell_type": "code",
      "metadata": {
        "id": "NOTKvEusAtHe"
      },
      "source": [
        "def MNIST_IS(imgs, model_path='MNIST.ckpt', batch_size=32, splits=10):\n",
        "    \n",
        "    \"\"\"Computes the inception score of the generated images imgs\n",
        "    params: \n",
        "    imgs : numpy array of dimension (# of datapoints, 1, 28, 28)\n",
        "    batch_size : batch size for feeding into the pretrained MNIST model\n",
        "    splits : number of splits\n",
        "    \"\"\"\n",
        "    N = len(imgs)\n",
        "    \n",
        "    #check imgs is numpy array & of desired dimension\n",
        "    assert type(imgs) is np.ndarray\n",
        "    assert imgs.shape[1] == 1\n",
        "    assert imgs.shape[2] == 28\n",
        "    assert imgs.shape[3] == 28\n",
        "    assert batch_size > 0\n",
        "    assert N > batch_size\n",
        "    \n",
        "    imgs = copy.copy(imgs)\n",
        "    \n",
        "    # Set up dtype\n",
        "    if torch.cuda.is_available():\n",
        "        dtype = torch.cuda.FloatTensor\n",
        "    else:\n",
        "        dtype = torch.FloatTensor\n",
        "    \n",
        "    MEAN = 0.1307\n",
        "    STD = 0.3081\n",
        "    imgs -= MEAN\n",
        "    imgs /= STD\n",
        "    \n",
        "    # Set up dataloader\n",
        "    dataloader = torch.utils.data.DataLoader(imgs, batch_size=batch_size)\n",
        "\n",
        "    # Load inception model\n",
        "    MNIST_model = ConvNet()\n",
        "    MNIST_model.load_state_dict(torch.load(model_path))\n",
        "    if torch.cuda.is_available():\n",
        "        MNIST_model = MNIST_model.cuda()\n",
        "    MNIST_model.eval()\n",
        "\n",
        "    def get_pred(x):\n",
        "        if torch.cuda.is_available():\n",
        "            x = x.cuda()\n",
        "        x = MNIST_model(x)\n",
        "        return F.softmax(x, dim=0).data.cpu().numpy()\n",
        "\n",
        "    # Get predictions\n",
        "    preds = np.zeros((N, 10))\n",
        "\n",
        "    for i, batch in enumerate(dataloader, 0):\n",
        "        batch = batch.type(dtype)\n",
        "        batch_size_i = batch.size()[0]\n",
        "\n",
        "        preds[i*batch_size:i*batch_size + batch_size_i] = get_pred(batch)\n",
        "\n",
        "    # Now compute the mean kl-div\n",
        "    split_scores = []\n",
        "\n",
        "    for k in range(splits):\n",
        "        part = preds[k * (N // splits): (k+1) * (N // splits), :]\n",
        "        py = np.mean(part, axis=0)\n",
        "        scores = []\n",
        "        for i in range(part.shape[0]):\n",
        "            pyx = part[i, :]\n",
        "            scores.append(entropy(pyx, py))\n",
        "        split_scores.append(np.exp(np.mean(scores)))\n",
        "    \n",
        "    return np.mean(split_scores), np.std(split_scores)\n",
        "\n",
        "#Model structure of the pretrained MNIST data\n",
        "class ConvNet(nn.Module):\n",
        "    def __init__(self):\n",
        "        super(ConvNet, self).__init__()\n",
        "        self.layer1 = nn.Sequential(\n",
        "            nn.Conv2d(1, 32, kernel_size=5, stride=1, padding=2),\n",
        "            nn.ReLU(),\n",
        "            nn.MaxPool2d(kernel_size=2, stride=2))\n",
        "        self.layer2 = nn.Sequential(\n",
        "            nn.Conv2d(32, 64, kernel_size=5, stride=1, padding=2),\n",
        "            nn.ReLU(),\n",
        "            nn.MaxPool2d(kernel_size=2, stride=2))\n",
        "        self.drop_out = nn.Dropout()\n",
        "        self.fc1 = nn.Linear(7 * 7 * 64, 1000)\n",
        "        self.fc2 = nn.Linear(1000, 10)\n",
        "\n",
        "    def forward(self, x):\n",
        "        out = self.layer1(x)\n",
        "        out = self.layer2(out)\n",
        "        out = out.reshape(out.size(0), -1)\n",
        "        out = self.drop_out(out)\n",
        "        out = self.fc1(out)\n",
        "        out = self.fc2(out)\n",
        "        return out\n"
      ],
      "execution_count": null,
      "outputs": []
    },
    {
      "cell_type": "markdown",
      "metadata": {
        "id": "4ySb57obAtHg"
      },
      "source": [
        "Now, let's see the inception score for the actual MNIST dataset.\n",
        "\n",
        "First, let's load a copy of MNIST.ckpt into the Colaboratory space."
      ]
    },
    {
      "cell_type": "code",
      "metadata": {
        "id": "oiKPLXGTDWIa"
      },
      "source": [
        "try:\n",
        "    import requests\n",
        "except ImportError:\n",
        "    !pip install requests\n",
        "    import requests\n",
        "\n",
        "def download_file_from_google_drive(id, destination):\n",
        "    URL = \"https://docs.google.com/uc?export=download\"\n",
        "\n",
        "    session = requests.Session()\n",
        "\n",
        "    response = session.get(URL, params = { 'id' : id }, stream = True)\n",
        "    token = get_confirm_token(response)\n",
        "\n",
        "    if token:\n",
        "        params = { 'id' : id, 'confirm' : token }\n",
        "        response = session.get(URL, params = params, stream = True)\n",
        "\n",
        "    save_response_content(response, destination)    \n",
        "\n",
        "def get_confirm_token(response):\n",
        "    for key, value in response.cookies.items():\n",
        "        if key.startswith('download_warning'):\n",
        "            return value\n",
        "\n",
        "    return None\n",
        "\n",
        "def save_response_content(response, destination):\n",
        "    CHUNK_SIZE = 32768\n",
        "\n",
        "    with open(destination, \"wb\") as f:\n",
        "        for chunk in response.iter_content(CHUNK_SIZE):\n",
        "            if chunk: # filter out keep-alive new chunks\n",
        "                f.write(chunk)\n",
        "\n",
        "file_id = '1j5O8LKuSxXbDYaGptBxqDH3YqYYpK4tK'\n",
        "destination = 'MNIST.ckpt'\n",
        "download_file_from_google_drive(file_id, destination)"
      ],
      "execution_count": null,
      "outputs": []
    },
    {
      "cell_type": "code",
      "metadata": {
        "colab": {
          "base_uri": "https://localhost:8080/",
          "height": 627,
          "referenced_widgets": [
            "b7b40ec8a61a4ced9c8d3857dc2396e3",
            "620edaa7c578433bb15c04d49e5a5f4d",
            "1680912640294658823a2567278a064a",
            "ad9178e3d568422abd5e072fe680366e",
            "e3a60dd4c64f4ad68f48a1a5ccc44ea7",
            "5ff5303d197044eb907cbe9a9ae3e93b",
            "e3623f7fc44647d388823d935636c50a",
            "6da9631613c942f6822f518539a5b8a7",
            "46e922b1a0ae4b478ce1a338c0483eb6",
            "19eb3f95c6ef409d8fd887f8a24d9699",
            "ede341d721da4f6dbdedba6f8bad6374",
            "d5a1e4ce692341ceb2821f3467800c7d",
            "8995d97a61e74340b40c637a46b0f427",
            "7d792af387b7456e979de204793e7caf",
            "51f5bcca59ee4efaa12ef361a5426187",
            "bda091b6013e4fee802dcd90646d6b70",
            "1c9bde5a67124c4c831113eb4346f0b9",
            "d8b0dfea57ac4e54826dc219747d6075",
            "23b6af1c35964ce08410be19abcbcc50",
            "9d9c13a8e9134cd885a88314c3c7a36c",
            "81e08e0230c5471294131d7f8a992a5c",
            "c0c996e43d5e42229971e1ef4e7e726d",
            "6462997011814531883fdd71d617c37e",
            "40e21366168a4a56a45860c9a75c2c0d",
            "9073b6c211e54ee89f28256483a8d40c",
            "db508af6f6df43769fc04b1ee7d35351",
            "ce82d2e108c4401c89429ecaf80c53ef",
            "5707e943da264ef7a5e8827d6e387360",
            "444341b15f4847088eaaee8c43373e8a",
            "1b00bd4265fe4f6f936f2a2c6ad238fd",
            "5f4ba9b9b460468e98533f7809682212",
            "02f7225fc1e047e687c2a1a77560e2db"
          ]
        },
        "id": "w6jLTOQJAtHh",
        "outputId": "8272477b-d88a-4534-e152-83cef733bacb"
      },
      "source": [
        "transform = transforms.ToTensor()\n",
        "train_loader = torch.utils.data.DataLoader(\n",
        "    datasets.MNIST('./data', train=True, download=True, transform=transform),\n",
        "    batch_size=500, shuffle=True)\n",
        "\n",
        "for x, y in train_loader:\n",
        "    x = x\n",
        "    break\n",
        "x = x.cpu().data.numpy()\n",
        "x = x.reshape([-1,1,28,28])\n",
        "print('Shape of data:',x.shape)\n",
        "mis = MNIST_IS(x)\n",
        "print('Inception Score:','mean:',mis[0],'std:',mis[1])"
      ],
      "execution_count": null,
      "outputs": [
        {
          "output_type": "stream",
          "text": [
            "Downloading http://yann.lecun.com/exdb/mnist/train-images-idx3-ubyte.gz\n",
            "Downloading http://yann.lecun.com/exdb/mnist/train-images-idx3-ubyte.gz to ./data/MNIST/raw/train-images-idx3-ubyte.gz\n"
          ],
          "name": "stdout"
        },
        {
          "output_type": "display_data",
          "data": {
            "application/vnd.jupyter.widget-view+json": {
              "model_id": "b7b40ec8a61a4ced9c8d3857dc2396e3",
              "version_minor": 0,
              "version_major": 2
            },
            "text/plain": [
              "HBox(children=(FloatProgress(value=0.0, max=9912422.0), HTML(value='')))"
            ]
          },
          "metadata": {
            "tags": []
          }
        },
        {
          "output_type": "stream",
          "text": [
            "\n",
            "Extracting ./data/MNIST/raw/train-images-idx3-ubyte.gz to ./data/MNIST/raw\n",
            "\n",
            "Downloading http://yann.lecun.com/exdb/mnist/train-labels-idx1-ubyte.gz\n",
            "Downloading http://yann.lecun.com/exdb/mnist/train-labels-idx1-ubyte.gz to ./data/MNIST/raw/train-labels-idx1-ubyte.gz\n"
          ],
          "name": "stdout"
        },
        {
          "output_type": "display_data",
          "data": {
            "application/vnd.jupyter.widget-view+json": {
              "model_id": "46e922b1a0ae4b478ce1a338c0483eb6",
              "version_minor": 0,
              "version_major": 2
            },
            "text/plain": [
              "HBox(children=(FloatProgress(value=0.0, max=28881.0), HTML(value='')))"
            ]
          },
          "metadata": {
            "tags": []
          }
        },
        {
          "output_type": "stream",
          "text": [
            "\n",
            "Extracting ./data/MNIST/raw/train-labels-idx1-ubyte.gz to ./data/MNIST/raw\n",
            "\n",
            "Downloading http://yann.lecun.com/exdb/mnist/t10k-images-idx3-ubyte.gz\n",
            "Downloading http://yann.lecun.com/exdb/mnist/t10k-images-idx3-ubyte.gz to ./data/MNIST/raw/t10k-images-idx3-ubyte.gz\n"
          ],
          "name": "stdout"
        },
        {
          "output_type": "display_data",
          "data": {
            "application/vnd.jupyter.widget-view+json": {
              "model_id": "1c9bde5a67124c4c831113eb4346f0b9",
              "version_minor": 0,
              "version_major": 2
            },
            "text/plain": [
              "HBox(children=(FloatProgress(value=0.0, max=1648877.0), HTML(value='')))"
            ]
          },
          "metadata": {
            "tags": []
          }
        },
        {
          "output_type": "stream",
          "text": [
            "\n",
            "Extracting ./data/MNIST/raw/t10k-images-idx3-ubyte.gz to ./data/MNIST/raw\n",
            "\n",
            "Downloading http://yann.lecun.com/exdb/mnist/t10k-labels-idx1-ubyte.gz\n",
            "Downloading http://yann.lecun.com/exdb/mnist/t10k-labels-idx1-ubyte.gz to ./data/MNIST/raw/t10k-labels-idx1-ubyte.gz\n"
          ],
          "name": "stdout"
        },
        {
          "output_type": "display_data",
          "data": {
            "application/vnd.jupyter.widget-view+json": {
              "model_id": "9073b6c211e54ee89f28256483a8d40c",
              "version_minor": 0,
              "version_major": 2
            },
            "text/plain": [
              "HBox(children=(FloatProgress(value=0.0, max=4542.0), HTML(value='')))"
            ]
          },
          "metadata": {
            "tags": []
          }
        },
        {
          "output_type": "stream",
          "text": [
            "\n",
            "Extracting ./data/MNIST/raw/t10k-labels-idx1-ubyte.gz to ./data/MNIST/raw\n",
            "\n",
            "Processing...\n",
            "Done!\n"
          ],
          "name": "stdout"
        },
        {
          "output_type": "stream",
          "text": [
            "/usr/local/lib/python3.7/dist-packages/torchvision/datasets/mnist.py:502: UserWarning: The given NumPy array is not writeable, and PyTorch does not support non-writeable tensors. This means you can write to the underlying (supposedly non-writeable) NumPy array using the tensor. You may want to copy the array to protect its data or make it writeable before converting it to a tensor. This type of warning will be suppressed for the rest of this program. (Triggered internally at  /pytorch/torch/csrc/utils/tensor_numpy.cpp:143.)\n",
            "  return torch.from_numpy(parsed.astype(m[2], copy=False)).view(*s)\n"
          ],
          "name": "stderr"
        },
        {
          "output_type": "stream",
          "text": [
            "Shape of data: (500, 1, 28, 28)\n",
            "Inception Score: mean: 8.672117689096448 std: 1.0867457371925826\n"
          ],
          "name": "stdout"
        }
      ]
    },
    {
      "cell_type": "markdown",
      "metadata": {
        "id": "NfOewc4XAtHk"
      },
      "source": [
        "The score for MNIST should be somewhere around 8 to 12. As we train our GAN(s), we will be looking to\n",
        "get as high an inception score as possible on our generated images.\n"
      ]
    },
    {
      "cell_type": "markdown",
      "metadata": {
        "id": "0U7hIohiAtHl"
      },
      "source": [
        "### 2.2. Generating MNIST images\n",
        "\n",
        "\n",
        "#### Deliverables\n",
        "\n",
        "Given the limited computational resources, you will want to achieve an inception score of 1.5 or greater for full credit. An IS of 1.5 won't yield good images. For okay-looking images, you'll need an IS of at least 2. For nice looking images, you'll need an inception score of around 6.0, but it is not needed for full credit.\n",
        "\n",
        "Scores above 1.5 will receive bonus points.\n",
        "\n",
        "#### Instructions for long training times\n",
        "\n",
        "For more complicated architectures, if your model takes a long time to train, you will need to save the model and write a code snippet that loads it such that your notebook runs with no errors. In this case, set epochs = 0 and include the saved model in your submission on Gradescope (or a Google drive link / something similar if it is too large for Gradescope).\n",
        "\n",
        "#### Some Optional Tips\n",
        "\n",
        "It will be easier to get better results with a convolutional GAN as MLPs are typically not used in practical settings. Deconvolutional layers (implemented via `nn.ConvTranspose2d` in pytorch) are typically used. I suggest paying attention to the shapes at each line of the forward pass to avoid errors.\n",
        "\n",
        "There are additional GAN architectures online you may want to reference for inspiration. (But do not plagiarize -- please write your own custom network.)"
      ]
    },
    {
      "cell_type": "markdown",
      "metadata": {
        "id": "APjJzeBO7dHv"
      },
      "source": [
        "### 2.2.1. Define your generator\n",
        "Your can start with a generator with four Deconvolutional layers, and each layer is followed by a batch norm layer. Use Relu as the activation function for intermediate layers, and tanh for the output layer.\n",
        "\n",
        "The out_channels, kernel_size, stride, padding, for each layer is (16, 4, 1, 1), (8, 4, 2, 0), (4, 4, 2, 0), (1, 4, 2, 1)."
      ]
    },
    {
      "cell_type": "code",
      "metadata": {
        "id": "cIyJU6wZAtHm"
      },
      "source": [
        "#TODO Defining your networks:\n",
        "\n",
        "class generator(nn.Module):\n",
        "    # initializers\n",
        "    def __init__(self,input_channel):\n",
        "        super(generator, self).__init__()\n",
        "        #TODO\n",
        "        self.deconv = nn.Sequential(\n",
        "            nn.ConvTranspose2d(input_channel,16, 4, 1, 1),\n",
        "            nn.BatchNorm2d(16),\n",
        "            #nn.ReLU(),\n",
        "            nn.ConvTranspose2d(16, 8, 4, 2, 0),\n",
        "            nn.BatchNorm2d(8),\n",
        "            nn.ReLU(),\n",
        "            nn.ConvTranspose2d(8, 4, 4, 2, 0),\n",
        "            nn.BatchNorm2d(4),\n",
        "            nn.ReLU(),\n",
        "            nn.ConvTranspose2d(4, 1, 4, 2, 1),\n",
        "            nn.BatchNorm2d(1),\n",
        "            nn.Tanh(),\n",
        "        )\n",
        "\n",
        "\n",
        "    # weight_init\n",
        "    def weight_init(self, mean, std):\n",
        "        for m in self._modules:\n",
        "            normal_init(self._modules[m], mean, std)\n",
        "\n",
        "    # forward method\n",
        "    def forward(self, input):\n",
        "        #TODO\n",
        "        x = self.deconv(input)\n",
        "        return x"
      ],
      "execution_count": null,
      "outputs": []
    },
    {
      "cell_type": "markdown",
      "metadata": {
        "id": "LWjmwmWw9S2S"
      },
      "source": [
        "### 2.2.1. Define your discriminator\n",
        "Your can start with a discriminator with four convolutional layers, the second and the third layer are followed by one batch norm layer. Use LeakyReLU with negative slope 0.2 as the activation function for intermediate layers, and sigmoid for the output layer.\n",
        "\n",
        "The out_channels, kernel_size, stride, padding, for each layer is (2, 4, 2, 1), (4, 4, 2, 1), (8, 4, 2, 1), (1, 4, 2, 1). "
      ]
    },
    {
      "cell_type": "code",
      "metadata": {
        "id": "9JLl22Nl966t"
      },
      "source": [
        "class discriminator(nn.Module):\n",
        "    # initializers\n",
        "    def __init__(self):\n",
        "        super(discriminator, self).__init__()\n",
        "        #TODO\n",
        "        self.conv = nn.Sequential(\n",
        "            nn.Conv2d(1, 2, 4, 2, 1),\n",
        "            #nn.LeakyReLU(0.2),\n",
        "            nn.Conv2d(2, 4, 4, 2, 1),\n",
        "            nn.BatchNorm2d(4),\n",
        "            nn.LeakyReLU(0.2),\n",
        "            nn.Conv2d(4, 8, 4, 2, 1),\n",
        "            nn.BatchNorm2d(8),\n",
        "            nn.LeakyReLU(0.2),\n",
        "            nn.Conv2d(8, 1, 4, 2, 1),\n",
        "            #nn.BatchNorm2d(1),\n",
        "            nn.Sigmoid(),\n",
        "        )\n",
        "\n",
        "    # weight_init\n",
        "    def weight_init(self, mean, std):\n",
        "        for m in self._modules:\n",
        "            normal_init(self._modules[m], mean, std)\n",
        "\n",
        "    # forward method\n",
        "    def forward(self, input):\n",
        "        #TODO\n",
        "        x = self.conv(input)\n",
        "        return x   "
      ],
      "execution_count": null,
      "outputs": []
    },
    {
      "cell_type": "markdown",
      "metadata": {
        "id": "UfJt2QNeAtHu"
      },
      "source": [
        "### 2.3. Training the GAN\n",
        "\n",
        "Now, we will set up the $D, G$ training regime. We iterate over our training\n",
        "set. For each batch:\n",
        "\n",
        "1. For the discriminator, push $D$ towards identifying each sample in the batch with probability close to 1. We then generate an equal number of artificial samples with $G$ and push $D$ towards identifying each sample in the batch with probability close to 0 (i.e. identifying it as a fake sample). Both of these are done by minimizing BCE loss.\n",
        "2. For $G$, we will take another random batch of artificial samples and update $G$ in such a way that we push $D$ towards identifying the artificial samples as real. This can also be done by minimizing BCE loss.\n"
      ]
    },
    {
      "cell_type": "code",
      "metadata": {
        "colab": {
          "base_uri": "https://localhost:8080/",
          "height": 668
        },
        "id": "39knSdMbbuSd",
        "outputId": "d5195eda-b546-4e25-9d02-0f887e9ec855"
      },
      "source": [
        "#Training code:\n",
        "\n",
        "gpu_boole = torch.cuda.is_available()\n",
        "cnn_boole = True #set True for CNN reshaping\n",
        "\n",
        "#TODO tune the hyper parameter carefully to achieve a nash equilibrium\n",
        "#The initial hyper parameters are not ideal, you need to tune them to make things work.\n",
        "k=10 \n",
        "epochs = 20\n",
        "batch_size = 32 \n",
        "lr_g = 0.2\n",
        "lr_d = 0.2\n",
        "train_interval = 8\n",
        "\n",
        "G = generator(k)\n",
        "D = discriminator()\n",
        "\n",
        "if gpu_boole:\n",
        "    G = G.cuda()\n",
        "    D = D.cuda()\n",
        "    \n",
        "#data loader:\n",
        "transform = transforms.Compose([\n",
        "        transforms.ToTensor(),\n",
        "        transforms.Normalize([0.5], [0.5])\n",
        "#        transforms.Normalize(mean=(0.5, 0.5, 0.5), std=(0.5, 0.5, 0.5))\n",
        "])\n",
        "train_loader = torch.utils.data.DataLoader(\n",
        "    datasets.MNIST('./data', train=True, download=True, transform=transform),\n",
        "    batch_size=batch_size, shuffle=True)\n",
        "\n",
        "#D,G optimizers:\n",
        "G_optimizer = optim.SGD(G.parameters(), lr=lr_g)\n",
        "D_optimizer = optim.SGD(D.parameters(), lr=lr_d)\n",
        "\n",
        "#loss definition(s):\n",
        "BCE_loss = nn.BCELoss()\n",
        "\n",
        "#training loop:\n",
        "D_losses = []\n",
        "G_losses = []\n",
        "print(\"Training start!\")\n",
        "for epoch in range(epochs):\n",
        "    epoch_ = 0\n",
        "    for x_, _ in train_loader:\n",
        "\n",
        "        #reshaping depending on your architecture class:\n",
        "        if not cnn_boole:\n",
        "            x_ = x_.view(batch_size,-1) #this reshape is needed for MLP class\n",
        "        if gpu_boole:\n",
        "            x_ = x_.cuda()\n",
        "        \n",
        "        \n",
        "        mini_batch = x_.size()[0]\n",
        "        y_real_ = torch.ones(mini_batch)\n",
        "        y_fake_ = torch.zeros(mini_batch)\n",
        "        if gpu_boole:\n",
        "            y_real_ = y_real_.cuda()\n",
        "            y_fake_ = y_fake_.cuda()\n",
        "        z_ = torch.randn((mini_batch, k))\n",
        "        if cnn_boole:\n",
        "            z_ = z_.view(-1, k, 1, 1) #needed for CNN        \n",
        "        if gpu_boole:\n",
        "            z_ = z_.cuda()\n",
        "        # TODO train discriminator D\n",
        "        # Step 1 get prediction of D on real data x_ and calculate D_real_loss for real data\n",
        "        output_real = D(x_)\n",
        "        D_real_loss = BCE_loss(output_real.flatten(),y_real_)\n",
        "\n",
        "        # Step 2 get prediction of D on fake data generated by generator based on z_\n",
        "        # and calculate D_fake_loss for fake data\n",
        "        img_fake = G(z_)\n",
        "        output_fake = D(img_fake)\n",
        "        D_fake_loss = BCE_loss(output_fake.flatten(),y_fake_)\n",
        "\n",
        "        # Step 3 calculate the overall loss for D and update weight. (we've done this for you)\n",
        "        D_train_loss = D_real_loss + D_fake_loss\n",
        "        D.zero_grad()\n",
        "        D_train_loss.backward()\n",
        "        D_optimizer.step()\n",
        "        D_losses.append(D_train_loss.data.item())\n",
        "        \n",
        "        # TODO train generator G\n",
        "        # Step 0 think about the collapse problem we mentioned in lectures\n",
        "        # and how we deal with that. The hyperparameter train_interval might help.\n",
        "        epoch_ += 1\n",
        "        if epoch_ % train_interval != 0 :\n",
        "          continue\n",
        "\n",
        "        # Step 1 calculate a new z_ and get prediction of fake data generated by \n",
        "        # generator based on z_\n",
        "        z_new = torch.randn((mini_batch, k))\n",
        "        if cnn_boole:\n",
        "          z_new = z_new.view(-1, k, 1, 1) #needed for CNN        \n",
        "        if gpu_boole:\n",
        "          z_new = z_new.cuda()\n",
        "        fake_img = G(z_new)\n",
        "        output = D(fake_img)\n",
        "        G_train_loss = BCE_loss(output.flatten(),y_real_)\n",
        "\n",
        "        # Step 2 calculate the train loss for generator and update weight (we've done this for you)\n",
        "        G.zero_grad()\n",
        "        G_train_loss.backward()\n",
        "        G_optimizer.step()\n",
        "\n",
        "        G_losses.append(G_train_loss.data.item())\n",
        "    \n",
        "    print('[%d/%d] - loss_d: %.3f, loss_g: %.3f' % ((epoch + 1), epochs, torch.mean(torch.FloatTensor(D_losses)),\n",
        "                                                                        torch.mean(torch.FloatTensor(G_losses))))\n",
        "\n",
        "#Plotting:\n",
        "\n",
        "#Losses:\n",
        "plt.subplot(1, 2, 1)\n",
        "plt.plot(D_losses)\n",
        "plt.title(\"D Loss\")\n",
        "plt.xlabel(\"Batch number\")\n",
        "plt.ylabel(\"Loss\")\n",
        "plt.subplot(1, 2, 2)\n",
        "plt.plot(G_losses)\n",
        "plt.title(\"G Loss\")\n",
        "plt.xlabel(\"Batch number\")\n",
        "plt.ylabel(\"Loss\");"
      ],
      "execution_count": null,
      "outputs": [
        {
          "output_type": "stream",
          "text": [
            "Training start!\n",
            "[1/20] - loss_d: 0.958, loss_g: 1.825\n",
            "[2/20] - loss_d: 0.981, loss_g: 1.713\n",
            "[3/20] - loss_d: 1.023, loss_g: 1.591\n",
            "[4/20] - loss_d: 1.050, loss_g: 1.547\n",
            "[5/20] - loss_d: 1.038, loss_g: 1.594\n",
            "[6/20] - loss_d: 1.046, loss_g: 1.590\n",
            "[7/20] - loss_d: 1.061, loss_g: 1.552\n",
            "[8/20] - loss_d: 1.074, loss_g: 1.504\n",
            "[9/20] - loss_d: 1.085, loss_g: 1.463\n",
            "[10/20] - loss_d: 1.094, loss_g: 1.427\n",
            "[11/20] - loss_d: 1.103, loss_g: 1.394\n",
            "[12/20] - loss_d: 1.113, loss_g: 1.361\n",
            "[13/20] - loss_d: 1.119, loss_g: 1.341\n",
            "[14/20] - loss_d: 1.122, loss_g: 1.334\n",
            "[15/20] - loss_d: 1.124, loss_g: 1.328\n",
            "[16/20] - loss_d: 1.126, loss_g: 1.320\n",
            "[17/20] - loss_d: 1.129, loss_g: 1.308\n",
            "[18/20] - loss_d: 1.134, loss_g: 1.297\n",
            "[19/20] - loss_d: 1.139, loss_g: 1.285\n",
            "[20/20] - loss_d: 1.144, loss_g: 1.271\n"
          ],
          "name": "stdout"
        },
        {
          "output_type": "display_data",
          "data": {
            "image/png": "[encoded data removed]",
            "text/plain": [
              "<Figure size 432x288 with 2 Axes>"
            ]
          },
          "metadata": {
            "tags": [],
            "needs_background": "light"
          }
        }
      ]
    },
    {
      "cell_type": "markdown",
      "metadata": {
        "id": "rsmzzp3OAtH6"
      },
      "source": [
        "##### Computing inception score:"
      ]
    },
    {
      "cell_type": "code",
      "metadata": {
        "colab": {
          "base_uri": "https://localhost:8080/"
        },
        "id": "UHdm3VSXdlle",
        "outputId": "7ccc672c-b0b2-49bc-d302-7957c886d627"
      },
      "source": [
        "# Samples from G:\n",
        "z_ = torch.randn((1500, k))\n",
        "if gpu_boole:\n",
        "    z_ = z_.cuda()\n",
        "if cnn_boole:\n",
        "    z_ = z_.view(-1, k, 1, 1) #needed for CNN        \n",
        "    \n",
        "G_result = G(z_)\n",
        "G_result = G_result.cpu().data.numpy()\n",
        "G_result = G_result.reshape([1500,1,28,28])\n",
        "\n",
        "mis = MNIST_IS(G_result)\n",
        "print('Inception Score:','mean:',mis[0],'std:',mis[1])"
      ],
      "execution_count": null,
      "outputs": [
        {
          "output_type": "stream",
          "text": [
            "Inception Score: mean: 1.5400625973175108 std: 0.04916341289155005\n"
          ],
          "name": "stdout"
        }
      ]
    },
    {
      "cell_type": "markdown",
      "metadata": {
        "id": "3UhItaElAtIP"
      },
      "source": [
        "##### Visualizing GAN samples"
      ]
    },
    {
      "cell_type": "code",
      "metadata": {
        "colab": {
          "base_uri": "https://localhost:8080/",
          "height": 554
        },
        "id": "WU96DfjudpsI",
        "outputId": "5e55c167-ada8-46f0-a7fd-2ddd58d5f11c"
      },
      "source": [
        "# Samples from G:\n",
        "z_ = torch.randn((1500, k))\n",
        "if gpu_boole:\n",
        "    z_ = z_.cuda()\n",
        "if cnn_boole:\n",
        "    z_ = z_.view(-1, k, 1, 1) #needed for CNN        \n",
        "\n",
        "G_result = G(z_)\n",
        "G_result = G_result.cpu().data.numpy()\n",
        "G_result = G_result.reshape([1500,28,28])\n",
        "\n",
        "plt.imshow(G_result[0],cmap='gray')\n",
        "\n",
        "size_figure_grid = 5\n",
        "fig, ax = plt.subplots(size_figure_grid, size_figure_grid, figsize=(5, 5))\n",
        "for i, j in itertools.product(range(size_figure_grid), range(size_figure_grid)):\n",
        "    ax[i, j].get_xaxis().set_visible(False)\n",
        "    ax[i, j].get_yaxis().set_visible(False)\n",
        "\n",
        "for kr in range(5*5):\n",
        "    i = kr // 5\n",
        "    j = kr % 5\n",
        "    ax[i, j].cla()\n",
        "    ax[i, j].imshow(G_result[kr], cmap='gray')"
      ],
      "execution_count": null,
      "outputs": [
        {
          "output_type": "display_data",
          "data": {
            "image/png": "[encoded data removed]",
            "text/plain": [
              "<Figure size 432x288 with 1 Axes>"
            ]
          },
          "metadata": {
            "tags": [],
            "needs_background": "light"
          }
        },
        {
          "output_type": "display_data",
          "data": {
            "image/png": "[encoded data removed]",
            "text/plain": [
              "<Figure size 360x360 with 25 Axes>"
            ]
          },
          "metadata": {
            "tags": [],
            "needs_background": "light"
          }
        }
      ]
    },
    {
      "cell_type": "code",
      "metadata": {
        "id": "xb0U_dnHeF3h"
      },
      "source": [
        "torch.save(G, 'G.pkl')\n",
        "torch.save(D, 'D.pkl')"
      ],
      "execution_count": null,
      "outputs": []
    }
  ]
}